{
  "nbformat": 4,
  "nbformat_minor": 0,
  "metadata": {
    "colab": {
      "name": "IDL-Assignment1-DeepNN-200425-Rev0",
      "provenance": [],
      "collapsed_sections": []
    },
    "kernelspec": {
      "name": "python3",
      "display_name": "Python 3"
    },
    "accelerator": "GPU"
  },
  "cells": [
    {
      "cell_type": "markdown",
      "metadata": {
        "id": "4VlxKn-LiBfR",
        "colab_type": "text"
      },
      "source": [
        "**Introduction to Deep Learning Assignment 1**       \n",
        "**Summer Semester 2020**       \n",
        "Raj Rajeshwari Prasad                   "
      ]
    },
    {
      "cell_type": "markdown",
      "metadata": {
        "id": "3TSeFuloiN-D",
        "colab_type": "text"
      },
      "source": [
        "**Task**: Linear Model in Tensorflow for MNIST Handwriting Recognintion Data \n",
        "* Convert the model into Deep Neural Network Model\n",
        "                                                 \n",
        "**Bonus Task**:                  \n",
        "* Playing with Hidden Layers and other parameters            \n",
        "* Visualizing Data                      \n",
        "* NN in Tensorflow for MNIST Fashion Data\n",
        "\n"
      ]
    },
    {
      "cell_type": "markdown",
      "metadata": {
        "id": "zetsaZNtvc4q",
        "colab_type": "text"
      },
      "source": [
        "**Step 1: Loading Google Drive**"
      ]
    },
    {
      "cell_type": "code",
      "metadata": {
        "id": "HSRgBHCYvbk3",
        "colab_type": "code",
        "colab": {
          "base_uri": "https://localhost:8080/",
          "height": 148
        },
        "outputId": "0b8fa7b1-5ed3-49d4-d9c2-e67124ae43f2"
      },
      "source": [
        "from google.colab import drive\n",
        "drive.mount('gdrive')\n",
        "%cd /content/gdrive/My\\ Drive/Study/IDL_Assignments"
      ],
      "execution_count": null,
      "outputs": [
        {
          "output_type": "stream",
          "text": [
            "Go to this URL in a browser: https://accounts.google.com/o/oauth2/auth?client_id=947318989803-6bn6qk8qdgf4n4g3pfee6491hc0brc4i.apps.googleusercontent.com&redirect_uri=urn%3aietf%3awg%3aoauth%3a2.0%3aoob&response_type=code&scope=email%20https%3a%2f%2fwww.googleapis.com%2fauth%2fdocs.test%20https%3a%2f%2fwww.googleapis.com%2fauth%2fdrive%20https%3a%2f%2fwww.googleapis.com%2fauth%2fdrive.photos.readonly%20https%3a%2f%2fwww.googleapis.com%2fauth%2fpeopleapi.readonly\n",
            "\n",
            "Enter your authorization code:\n",
            "··········\n",
            "Mounted at gdrive\n",
            "/content/gdrive/My Drive/Study/IDL_Assignments\n"
          ],
          "name": "stdout"
        }
      ]
    },
    {
      "cell_type": "markdown",
      "metadata": {
        "id": "Yp9cQhOOkSi8",
        "colab_type": "text"
      },
      "source": [
        "**Step 2: Importing Libraries**"
      ]
    },
    {
      "cell_type": "code",
      "metadata": {
        "id": "7ZinZB2hkYif",
        "colab_type": "code",
        "colab": {}
      },
      "source": [
        "%tensorflow_version 2.x\n",
        "import numpy as np\n",
        "import tensorflow as tf\n",
        "import matplotlib.pyplot as plt\n",
        "from datasets import MNISTDataset"
      ],
      "execution_count": null,
      "outputs": []
    },
    {
      "cell_type": "code",
      "metadata": {
        "id": "hqo8UPwAG99y",
        "colab_type": "code",
        "colab": {
          "base_uri": "https://localhost:8080/",
          "height": 35
        },
        "outputId": "8b081af8-6484-4c9f-be6a-55d5e2adf39e"
      },
      "source": [
        "\n",
        "print(np.version.full_version)"
      ],
      "execution_count": null,
      "outputs": [
        {
          "output_type": "stream",
          "text": [
            "1.18.3\n"
          ],
          "name": "stdout"
        }
      ]
    },
    {
      "cell_type": "markdown",
      "metadata": {
        "id": "XddWLQRnk8cm",
        "colab_type": "text"
      },
      "source": [
        "**Step 3: Loading Data** "
      ]
    },
    {
      "cell_type": "code",
      "metadata": {
        "id": "UtPdzbB-k7CX",
        "colab_type": "code",
        "colab": {}
      },
      "source": [
        "mnist = tf.keras.datasets.mnist"
      ],
      "execution_count": null,
      "outputs": []
    },
    {
      "cell_type": "code",
      "metadata": {
        "id": "haoeQnSWk2kS",
        "colab_type": "code",
        "colab": {
          "base_uri": "https://localhost:8080/",
          "height": 54
        },
        "outputId": "f1315a80-3a78-4196-ead5-04287d41d095"
      },
      "source": [
        "(training_images, training_labels),(testing_images, testing_labels) = mnist.load_data()"
      ],
      "execution_count": null,
      "outputs": [
        {
          "output_type": "stream",
          "text": [
            "Downloading data from https://storage.googleapis.com/tensorflow/tf-keras-datasets/mnist.npz\n",
            "11493376/11490434 [==============================] - 0s 0us/step\n"
          ],
          "name": "stdout"
        }
      ]
    },
    {
      "cell_type": "markdown",
      "metadata": {
        "id": "KMuP_Jqw2De1",
        "colab_type": "text"
      },
      "source": [
        "**Step 4: Visualizing Data** "
      ]
    },
    {
      "cell_type": "code",
      "metadata": {
        "id": "fKsFUf3q1Vro",
        "colab_type": "code",
        "colab": {
          "base_uri": "https://localhost:8080/",
          "height": 283
        },
        "outputId": "ac6ceba0-ece0-4c0e-a027-a74929d9b205"
      },
      "source": [
        "plt.imshow(training_images[0])"
      ],
      "execution_count": null,
      "outputs": [
        {
          "output_type": "execute_result",
          "data": {
            "text/plain": [
              "<matplotlib.image.AxesImage at 0x7f8298a2d080>"
            ]
          },
          "metadata": {
            "tags": []
          },
          "execution_count": 6
        },
        {
          "output_type": "display_data",
          "data": {
            "image/png": "[encoded data removed]",
            "text/plain": [
              "<Figure size 432x288 with 1 Axes>"
            ]
          },
          "metadata": {
            "tags": [],
            "needs_background": "light"
          }
        }
      ]
    },
    {
      "cell_type": "code",
      "metadata": {
        "id": "JrTV6HN59fTy",
        "colab_type": "code",
        "colab": {
          "base_uri": "https://localhost:8080/",
          "height": 476
        },
        "outputId": "16a44bcc-c622-44cc-b6ed-6898986a04f3"
      },
      "source": [
        "plt.figure(figsize=(10,10))\n",
        "for i in range (20):\n",
        "  plt.subplot(5,5,i+1)\n",
        "  plt.xticks([])\n",
        "  plt.yticks([])\n",
        "  plt.grid(False)\n",
        "  plt.imshow(training_images[i],cmap = plt.cm.binary)\n",
        "  plt.xlabel([training_labels[i]])"
      ],
      "execution_count": null,
      "outputs": [
        {
          "output_type": "display_data",
          "data": {
            "image/png": "[encoded data removed]",
            "text/plain": [
              "<Figure size 720x720 with 20 Axes>"
            ]
          },
          "metadata": {
            "tags": []
          }
        }
      ]
    },
    {
      "cell_type": "code",
      "metadata": {
        "id": "Mj_oxUbg2O_S",
        "colab_type": "code",
        "colab": {}
      },
      "source": [
        "shape_of_train_data = training_images.shape\n",
        "shape_of_test_data  = testing_images.shape\n",
        "num_of_train_data   = training_images.shape[0]\n",
        "num_of_test_data    = testing_images.shape[0]\n",
        "shape_of_image_hor  = training_images.shape[1]\n",
        "shape_of_image_vert = training_images.shape[2]\n",
        "number_of_dimensions= shape_of_image_hor*shape_of_image_vert\n",
        "\n",
        "label_list =[]\n",
        "for label in training_labels:\n",
        "  if label not in label_list:\n",
        "    label_list.append(label)\n",
        "number_of_labels = len(label_list)"
      ],
      "execution_count": null,
      "outputs": []
    },
    {
      "cell_type": "code",
      "metadata": {
        "id": "O7-9TWX-2fft",
        "colab_type": "code",
        "colab": {
          "base_uri": "https://localhost:8080/",
          "height": 165
        },
        "outputId": "1e1ca6ea-7415-4958-82fd-6aee70d55473"
      },
      "source": [
        "print('shape of training_data: '+ str(shape_of_train_data))\n",
        "print('shape of testing_data : '+ str(shape_of_test_data))\n",
        "print('num of training data  : '+ str(num_of_train_data))\n",
        "print('num of testing data   : '+ str(num_of_test_data))\n",
        "print('shape of an image     : '+ str(shape_of_image_hor) + ' x ' + str(shape_of_image_vert) + ' pixels')\n",
        "print('Number of Dimensions  : '+ str(number_of_dimensions))\n",
        "print('labels                : '+ str(sorted(label_list)))\n",
        "print('Number of Labels      : '+ str(number_of_labels))"
      ],
      "execution_count": null,
      "outputs": [
        {
          "output_type": "stream",
          "text": [
            "shape of training_data: (60000, 28, 28)\n",
            "shape of testing_data : (10000, 28, 28)\n",
            "num of training data  : 60000\n",
            "num of testing data   : 10000\n",
            "shape of an image     : 28 x 28 pixels\n",
            "Number of Dimensions  : 784\n",
            "labels                : [0, 1, 2, 3, 4, 5, 6, 7, 8, 9]\n",
            "Number of Labels      : 10\n"
          ],
          "name": "stdout"
        }
      ]
    },
    {
      "cell_type": "code",
      "metadata": {
        "id": "kZWLNlHo2uzw",
        "colab_type": "code",
        "colab": {
          "base_uri": "https://localhost:8080/",
          "height": 1000
        },
        "outputId": "47b23927-0217-46f7-9b8b-3f2a9019c128"
      },
      "source": [
        "print('Raw image with Pixel Values: ')\n",
        "print(training_images[0])"
      ],
      "execution_count": null,
      "outputs": [
        {
          "output_type": "stream",
          "text": [
            "Raw image with Pixel Values: \n",
            "[[  0   0   0   0   0   0   0   0   0   0   0   0   0   0   0   0   0   0\n",
            "    0   0   0   0   0   0   0   0   0   0]\n",
            " [  0   0   0   0   0   0   0   0   0   0   0   0   0   0   0   0   0   0\n",
            "    0   0   0   0   0   0   0   0   0   0]\n",
            " [  0   0   0   0   0   0   0   0   0   0   0   0   0   0   0   0   0   0\n",
            "    0   0   0   0   0   0   0   0   0   0]\n",
            " [  0   0   0   0   0   0   0   0   0   0   0   0   0   0   0   0   0   0\n",
            "    0   0   0   0   0   0   0   0   0   0]\n",
            " [  0   0   0   0   0   0   0   0   0   0   0   0   0   0   0   0   0   0\n",
            "    0   0   0   0   0   0   0   0   0   0]\n",
            " [  0   0   0   0   0   0   0   0   0   0   0   0   3  18  18  18 126 136\n",
            "  175  26 166 255 247 127   0   0   0   0]\n",
            " [  0   0   0   0   0   0   0   0  30  36  94 154 170 253 253 253 253 253\n",
            "  225 172 253 242 195  64   0   0   0   0]\n",
            " [  0   0   0   0   0   0   0  49 238 253 253 253 253 253 253 253 253 251\n",
            "   93  82  82  56  39   0   0   0   0   0]\n",
            " [  0   0   0   0   0   0   0  18 219 253 253 253 253 253 198 182 247 241\n",
            "    0   0   0   0   0   0   0   0   0   0]\n",
            " [  0   0   0   0   0   0   0   0  80 156 107 253 253 205  11   0  43 154\n",
            "    0   0   0   0   0   0   0   0   0   0]\n",
            " [  0   0   0   0   0   0   0   0   0  14   1 154 253  90   0   0   0   0\n",
            "    0   0   0   0   0   0   0   0   0   0]\n",
            " [  0   0   0   0   0   0   0   0   0   0   0 139 253 190   2   0   0   0\n",
            "    0   0   0   0   0   0   0   0   0   0]\n",
            " [  0   0   0   0   0   0   0   0   0   0   0  11 190 253  70   0   0   0\n",
            "    0   0   0   0   0   0   0   0   0   0]\n",
            " [  0   0   0   0   0   0   0   0   0   0   0   0  35 241 225 160 108   1\n",
            "    0   0   0   0   0   0   0   0   0   0]\n",
            " [  0   0   0   0   0   0   0   0   0   0   0   0   0  81 240 253 253 119\n",
            "   25   0   0   0   0   0   0   0   0   0]\n",
            " [  0   0   0   0   0   0   0   0   0   0   0   0   0   0  45 186 253 253\n",
            "  150  27   0   0   0   0   0   0   0   0]\n",
            " [  0   0   0   0   0   0   0   0   0   0   0   0   0   0   0  16  93 252\n",
            "  253 187   0   0   0   0   0   0   0   0]\n",
            " [  0   0   0   0   0   0   0   0   0   0   0   0   0   0   0   0   0 249\n",
            "  253 249  64   0   0   0   0   0   0   0]\n",
            " [  0   0   0   0   0   0   0   0   0   0   0   0   0   0  46 130 183 253\n",
            "  253 207   2   0   0   0   0   0   0   0]\n",
            " [  0   0   0   0   0   0   0   0   0   0   0   0  39 148 229 253 253 253\n",
            "  250 182   0   0   0   0   0   0   0   0]\n",
            " [  0   0   0   0   0   0   0   0   0   0  24 114 221 253 253 253 253 201\n",
            "   78   0   0   0   0   0   0   0   0   0]\n",
            " [  0   0   0   0   0   0   0   0  23  66 213 253 253 253 253 198  81   2\n",
            "    0   0   0   0   0   0   0   0   0   0]\n",
            " [  0   0   0   0   0   0  18 171 219 253 253 253 253 195  80   9   0   0\n",
            "    0   0   0   0   0   0   0   0   0   0]\n",
            " [  0   0   0   0  55 172 226 253 253 253 253 244 133  11   0   0   0   0\n",
            "    0   0   0   0   0   0   0   0   0   0]\n",
            " [  0   0   0   0 136 253 253 253 212 135 132  16   0   0   0   0   0   0\n",
            "    0   0   0   0   0   0   0   0   0   0]\n",
            " [  0   0   0   0   0   0   0   0   0   0   0   0   0   0   0   0   0   0\n",
            "    0   0   0   0   0   0   0   0   0   0]\n",
            " [  0   0   0   0   0   0   0   0   0   0   0   0   0   0   0   0   0   0\n",
            "    0   0   0   0   0   0   0   0   0   0]\n",
            " [  0   0   0   0   0   0   0   0   0   0   0   0   0   0   0   0   0   0\n",
            "    0   0   0   0   0   0   0   0   0   0]]\n"
          ],
          "name": "stdout"
        }
      ]
    },
    {
      "cell_type": "markdown",
      "metadata": {
        "id": "WuNIfNwp5S6k",
        "colab_type": "text"
      },
      "source": [
        "**Step 5: Flattening the Image**\n"
      ]
    },
    {
      "cell_type": "code",
      "metadata": {
        "id": "DcBzeq3s4aXF",
        "colab_type": "code",
        "colab": {}
      },
      "source": [
        "data = MNISTDataset(training_images.reshape([-1,number_of_dimensions]),training_labels,\n",
        "                    testing_images.reshape([-1,number_of_dimensions]),testing_labels, \n",
        "                                           batch_size=128 )\n"
      ],
      "execution_count": null,
      "outputs": []
    },
    {
      "cell_type": "code",
      "metadata": {
        "id": "FFoq8R3c_KSE",
        "colab_type": "code",
        "colab": {
          "base_uri": "https://localhost:8080/",
          "height": 54
        },
        "outputId": "c0e5daae-5dee-4470-9336-174d67acb867"
      },
      "source": [
        "print('New shape of Training Images: ' + str(data.train_data.shape))\n",
        "print('New shape of Testing Images : ' + str(data.test_data.shape))"
      ],
      "execution_count": null,
      "outputs": [
        {
          "output_type": "stream",
          "text": [
            "New shape of Training Images: (60000, 784)\n",
            "New shape of Testing Images : (10000, 784)\n"
          ],
          "name": "stdout"
        }
      ]
    },
    {
      "cell_type": "markdown",
      "metadata": {
        "id": "cMmnY5b7I0nM",
        "colab_type": "text"
      },
      "source": [
        "**Step 6: Defining Hyperparameters**"
      ]
    },
    {
      "cell_type": "markdown",
      "metadata": {
        "id": "QAfkyhjJShk0",
        "colab_type": "text"
      },
      "source": [
        "Model 1:- \n",
        "________________________________________________________________________________\n",
        "* No. of Hidden Layers      = 1\n",
        "* Number of Units in Layers = 128\n",
        "* Learinng Rate             = 0.1\n",
        "* Initialization of Bias    = between -0.1 to 0.1\n",
        "* Initialization of weights = between -0.1 to 0.1\n",
        "* Hidden Layer Act. Func.   = relu\n",
        "* Output Layer Act. Func.   = softmax with cross entropy loss function\n",
        "* Input Batch Size          = 128\n",
        "* Number of Steps           = 2000\n",
        "* Standrdization of Input   = True(data/255)"
      ]
    },
    {
      "cell_type": "code",
      "metadata": {
        "id": "XyCf16KTKGDy",
        "colab_type": "code",
        "colab": {}
      },
      "source": [
        "num_of_steps = 2000\n",
        "learning_rate1 = 0.1\n",
        "number_of_units_in_layer1 = 128"
      ],
      "execution_count": null,
      "outputs": []
    },
    {
      "cell_type": "code",
      "metadata": {
        "id": "oCgOlmVPRLNp",
        "colab_type": "code",
        "colab": {}
      },
      "source": [
        "w1 = tf.Variable(tf.random.uniform([number_of_dimensions,number_of_units_in_layer1],minval = -0.1, maxval=0.1,dtype=tf.dtypes.float32))\n",
        "b1 = tf.Variable(tf.random.uniform([number_of_units_in_layer1],minval = -0.1, maxval=0.1,dtype=tf.dtypes.float32))\n",
        "\n",
        "w2 = tf.Variable(tf.random.uniform([number_of_units_in_layer1,number_of_labels],minval = -0.1, maxval=0.1,dtype=tf.dtypes.float32))\n",
        "b2 = tf.Variable(tf.random.uniform([number_of_labels],minval = -0.1, maxval=0.1,dtype=tf.dtypes.float32))"
      ],
      "execution_count": null,
      "outputs": []
    },
    {
      "cell_type": "code",
      "metadata": {
        "id": "yvTXI19PdM-m",
        "colab_type": "code",
        "colab": {
          "base_uri": "https://localhost:8080/",
          "height": 91
        },
        "outputId": "7c418979-827d-423a-e939-539b29670205"
      },
      "source": [
        "print('Shape of weight matrix of hidden layer \"w1\": ' + str(w1.shape))\n",
        "print('Shape of bias matrix of hidden layer \"b1\"  : ' + str(b1.shape))\n",
        "\n",
        "print('Shape of weight matrix of output layer \"w2\": ' + str(w2.shape))\n",
        "print('Shape of bias matrix of output layer \"b2\"  : ' + str(b2.shape))"
      ],
      "execution_count": null,
      "outputs": [
        {
          "output_type": "stream",
          "text": [
            "Shape of weight matrix of hidden layer \"w1\": (784, 128)\n",
            "Shape of bias matrix of hidden layer \"b1\"  : (128,)\n",
            "Shape of weight matrix of output layer \"w2\": (128, 10)\n",
            "Shape of bias matrix of output layer \"b2\"  : (10,)\n"
          ],
          "name": "stdout"
        }
      ]
    },
    {
      "cell_type": "markdown",
      "metadata": {
        "id": "XSKcxrB_p0Uf",
        "colab_type": "text"
      },
      "source": [
        "**Step 7: Designing and Training the Model**"
      ]
    },
    {
      "cell_type": "code",
      "metadata": {
        "id": "LyutDO3Jpdbl",
        "colab_type": "code",
        "colab": {
          "base_uri": "https://localhost:8080/",
          "height": 461
        },
        "outputId": "2a4a4eed-ed96-4898-f0bd-a169f85f0951"
      },
      "source": [
        "loss_list = []\n",
        "step_list = []\n",
        "for step in range(num_of_steps):\n",
        "  image_batch,label_batch = data.next_batch()  #This will update the batch size after every steps\n",
        "  with tf.GradientTape() as tape:#for monitoring every change to tensors\n",
        "    #logits1 = tf.matmul(image_batch,w1)+b1# image_batch.shape = (128 x 784), w1.shape= (784x128), \n",
        "    # image_batch x w1 = logits1, logits1 = (128x128)\n",
        "    hidden1 = tf.nn.relu(tf.matmul(image_batch,w1)+b1)\n",
        "    logits = tf.matmul(hidden1,w2)+b2\n",
        "\n",
        "    loss = tf.reduce_mean(tf.nn.sparse_softmax_cross_entropy_with_logits(logits=logits, labels=label_batch))\n",
        "    loss_list.append(loss)\n",
        "  grads = tape.gradient(loss, [w2,b2,w1,b1])\n",
        "  w2.assign_sub(learning_rate1*grads[0])#updating weights\n",
        "  b2.assign_sub(learning_rate1*grads[1])#updating \n",
        "  w1.assign_sub(learning_rate1*grads[2])\n",
        "  b1.assign_sub(learning_rate1*grads[3])\n",
        "  \n",
        "  step_list.append(step)\n",
        "  \n",
        "\n",
        "  if not step%100:# updating after 100 steps only\n",
        "    preds = tf.argmax(logits,axis = 1, output_type = tf.int32)#selecting max value's index\n",
        "    acc   = (tf.reduce_mean(tf.cast(tf.equal(preds, label_batch),tf.float32)))*100# comparing predicted value and actual value\n",
        "    #returning a binary output. Further checking number of correct classification and calculating accuracy.\n",
        "    print(\"Loss: {}, Accuracy on Training Data: {}\".format(loss,acc))\n",
        "    \n",
        "#"
      ],
      "execution_count": null,
      "outputs": [
        {
          "output_type": "stream",
          "text": [
            "Loss: 2.358797550201416, Accuracy on Training Data: 11.71875\n",
            "Loss: 0.6376878619194031, Accuracy on Training Data: 81.25\n",
            "Loss: 0.3220132291316986, Accuracy on Training Data: 93.75\n",
            "Loss: 0.3332018256187439, Accuracy on Training Data: 90.625\n",
            "Loss: 0.3492524027824402, Accuracy on Training Data: 88.28125\n",
            "Starting new epoch...\n",
            "Loss: 0.23628532886505127, Accuracy on Training Data: 92.1875\n",
            "Loss: 0.2619766592979431, Accuracy on Training Data: 92.96875\n",
            "Loss: 0.4453533887863159, Accuracy on Training Data: 85.9375\n",
            "Loss: 0.2314181923866272, Accuracy on Training Data: 91.40625\n",
            "Loss: 0.25458356738090515, Accuracy on Training Data: 93.75\n",
            "Starting new epoch...\n",
            "Loss: 0.3264120817184448, Accuracy on Training Data: 90.625\n",
            "Loss: 0.27247828245162964, Accuracy on Training Data: 89.84375\n",
            "Loss: 0.1154508963227272, Accuracy on Training Data: 97.65625\n",
            "Loss: 0.2531734108924866, Accuracy on Training Data: 96.875\n",
            "Loss: 0.20091760158538818, Accuracy on Training Data: 95.3125\n",
            "Starting new epoch...\n",
            "Loss: 0.17463834583759308, Accuracy on Training Data: 94.53125\n",
            "Loss: 0.2985610365867615, Accuracy on Training Data: 94.53125\n",
            "Loss: 0.12094016373157501, Accuracy on Training Data: 95.3125\n",
            "Loss: 0.2655535042285919, Accuracy on Training Data: 92.96875\n",
            "Starting new epoch...\n",
            "Loss: 0.14109665155410767, Accuracy on Training Data: 96.875\n"
          ],
          "name": "stdout"
        }
      ]
    },
    {
      "cell_type": "markdown",
      "metadata": {
        "id": "bYfcTVgCqwoA",
        "colab_type": "text"
      },
      "source": [
        "**Step 8: Accuracy on Testing Data**"
      ]
    },
    {
      "cell_type": "code",
      "metadata": {
        "id": "gQy6dd2SFAER",
        "colab_type": "code",
        "colab": {
          "base_uri": "https://localhost:8080/",
          "height": 35
        },
        "outputId": "bd3fa751-b0a3-46af-b84b-41042df5cb6f"
      },
      "source": [
        "test_prediction1 = tf.nn.relu(tf.matmul(data.test_data,w1)+b1)\n",
        "test_predictions = tf.argmax(tf.matmul(test_prediction1,w2)+b2, axis = 1, output_type= tf.int32)\n",
        "acc = (tf.reduce_mean(tf.cast(tf.equal(test_predictions, data.test_labels),tf.float32)))*100\n",
        "print(' Accuracy on Testing Data: {}'.format(acc))"
      ],
      "execution_count": null,
      "outputs": [
        {
          "output_type": "stream",
          "text": [
            " Accuracy on Testing Data: 94.79000091552734\n"
          ],
          "name": "stdout"
        }
      ]
    },
    {
      "cell_type": "code",
      "metadata": {
        "id": "YqQ9jyR4endG",
        "colab_type": "code",
        "colab": {
          "base_uri": "https://localhost:8080/",
          "height": 297
        },
        "outputId": "2e18b0fa-3582-4c9a-cd4e-f224dfc078ea"
      },
      "source": [
        "plt.figure()\n",
        "plt.plot(step_list,loss_list)\n",
        "plt.xlabel('Training Steps')\n",
        "plt.ylabel('Loss')"
      ],
      "execution_count": null,
      "outputs": [
        {
          "output_type": "execute_result",
          "data": {
            "text/plain": [
              "Text(0, 0.5, 'Loss')"
            ]
          },
          "metadata": {
            "tags": []
          },
          "execution_count": 18
        },
        {
          "output_type": "display_data",
          "data": {
            "image/png": "[encoded data removed]",
            "text/plain": [
              "<Figure size 432x288 with 1 Axes>"
            ]
          },
          "metadata": {
            "tags": [],
            "needs_background": "light"
          }
        }
      ]
    },
    {
      "cell_type": "markdown",
      "metadata": {
        "id": "f8U7suwHq_43",
        "colab_type": "text"
      },
      "source": [
        "**Step 9: Partial validation - Temporary**"
      ]
    },
    {
      "cell_type": "code",
      "metadata": {
        "id": "J5bsBIFbozLD",
        "colab_type": "code",
        "colab": {}
      },
      "source": [
        "ind1, ind2,ind3,ind4,ind5 = 5678, 8765, 6857, 85, 9"
      ],
      "execution_count": null,
      "outputs": []
    },
    {
      "cell_type": "markdown",
      "metadata": {
        "id": "E_6MoQp_sJh0",
        "colab_type": "text"
      },
      "source": [
        "check 1:"
      ]
    },
    {
      "cell_type": "code",
      "metadata": {
        "id": "oZlfzNzYsF6g",
        "colab_type": "code",
        "colab": {
          "base_uri": "https://localhost:8080/",
          "height": 283
        },
        "outputId": "ddad97a7-43c3-40f1-df67-d4d105412f91"
      },
      "source": [
        "plt.imshow(testing_images[ind1])\n",
        "plt.show\n",
        "print('      Model Prediction: {}'.format(test_predictions[ind1]))"
      ],
      "execution_count": null,
      "outputs": [
        {
          "output_type": "stream",
          "text": [
            "      Model Prediction: 5\n"
          ],
          "name": "stdout"
        },
        {
          "output_type": "display_data",
          "data": {
            "image/png": "[encoded data removed]",
            "text/plain": [
              "<Figure size 432x288 with 1 Axes>"
            ]
          },
          "metadata": {
            "tags": [],
            "needs_background": "light"
          }
        }
      ]
    },
    {
      "cell_type": "markdown",
      "metadata": {
        "id": "6W84-QXysvCM",
        "colab_type": "text"
      },
      "source": [
        "check 2:"
      ]
    },
    {
      "cell_type": "code",
      "metadata": {
        "id": "QYuezUoIoCmo",
        "colab_type": "code",
        "colab": {
          "base_uri": "https://localhost:8080/",
          "height": 283
        },
        "outputId": "5e479927-d464-4373-e862-41ba4d52645d"
      },
      "source": [
        "plt.imshow(testing_images[ind2])\n",
        "plt.show\n",
        "print('      Model Prediction: {}'.format(test_predictions[ind2]))"
      ],
      "execution_count": null,
      "outputs": [
        {
          "output_type": "stream",
          "text": [
            "      Model Prediction: 0\n"
          ],
          "name": "stdout"
        },
        {
          "output_type": "display_data",
          "data": {
            "image/png": "[encoded data removed]",
            "text/plain": [
              "<Figure size 432x288 with 1 Axes>"
            ]
          },
          "metadata": {
            "tags": [],
            "needs_background": "light"
          }
        }
      ]
    },
    {
      "cell_type": "markdown",
      "metadata": {
        "id": "Mri6tkuvs4mp",
        "colab_type": "text"
      },
      "source": [
        "check 3:"
      ]
    },
    {
      "cell_type": "code",
      "metadata": {
        "id": "IYYagSrqqXKE",
        "colab_type": "code",
        "colab": {
          "base_uri": "https://localhost:8080/",
          "height": 283
        },
        "outputId": "5cc051f0-97f5-4e0a-c675-5beba63e2e1f"
      },
      "source": [
        "plt.imshow(testing_images[ind3])\n",
        "plt.show\n",
        "print('      Model Prediction: {}'.format(test_predictions[ind3]))"
      ],
      "execution_count": null,
      "outputs": [
        {
          "output_type": "stream",
          "text": [
            "      Model Prediction: 3\n"
          ],
          "name": "stdout"
        },
        {
          "output_type": "display_data",
          "data": {
            "image/png": "[encoded data removed]",
            "text/plain": [
              "<Figure size 432x288 with 1 Axes>"
            ]
          },
          "metadata": {
            "tags": [],
            "needs_background": "light"
          }
        }
      ]
    },
    {
      "cell_type": "markdown",
      "metadata": {
        "id": "PiZBpUP9tAKX",
        "colab_type": "text"
      },
      "source": [
        "check 4:"
      ]
    },
    {
      "cell_type": "code",
      "metadata": {
        "id": "8P1vxw-2s-6a",
        "colab_type": "code",
        "colab": {
          "base_uri": "https://localhost:8080/",
          "height": 283
        },
        "outputId": "c7dc911e-2a6d-4884-a448-a3cfc78e9b9e"
      },
      "source": [
        "plt.imshow(testing_images[ind4])\n",
        "plt.show\n",
        "print('      Model Prediction: {}'.format(test_predictions[ind4]))"
      ],
      "execution_count": null,
      "outputs": [
        {
          "output_type": "stream",
          "text": [
            "      Model Prediction: 4\n"
          ],
          "name": "stdout"
        },
        {
          "output_type": "display_data",
          "data": {
            "image/png": "[encoded data removed]",
            "text/plain": [
              "<Figure size 432x288 with 1 Axes>"
            ]
          },
          "metadata": {
            "tags": [],
            "needs_background": "light"
          }
        }
      ]
    },
    {
      "cell_type": "markdown",
      "metadata": {
        "id": "3bvYLiAqtF_e",
        "colab_type": "text"
      },
      "source": [
        "check 5:"
      ]
    },
    {
      "cell_type": "code",
      "metadata": {
        "id": "Db2uqfzstECx",
        "colab_type": "code",
        "colab": {
          "base_uri": "https://localhost:8080/",
          "height": 283
        },
        "outputId": "d82600f3-48b0-4435-b3ce-9c8b04f4df3b"
      },
      "source": [
        "plt.imshow(testing_images[ind5])\n",
        "plt.show\n",
        "print('      Model Prediction: {}'.format(test_predictions[ind5]))"
      ],
      "execution_count": null,
      "outputs": [
        {
          "output_type": "stream",
          "text": [
            "      Model Prediction: 9\n"
          ],
          "name": "stdout"
        },
        {
          "output_type": "display_data",
          "data": {
            "image/png": "[encoded data removed]",
            "text/plain": [
              "<Figure size 432x288 with 1 Axes>"
            ]
          },
          "metadata": {
            "tags": [],
            "needs_background": "light"
          }
        }
      ]
    },
    {
      "cell_type": "markdown",
      "metadata": {
        "id": "kF_AKxddu2NQ",
        "colab_type": "text"
      },
      "source": [
        "Model 2:-  Changing Number of Units in Hidden Layer\n",
        "________________________________________________________________________________\n",
        "* No. of Hidden Layers      = 1\n",
        "* Number of Units in Layers = 512(changed)\n",
        "* Learinng Rate             = 0.1\n",
        "* Initialization of Bias    = between -0.1 to 0.1\n",
        "* Initialization of weights = between -0.1 to 0.1\n",
        "* Hidden Layer Act. Func.   = relu\n",
        "* Output Layer Act. Func.   = softmax with cross entropy loss function\n",
        "* Input Batch Size          = 128\n",
        "* Number of Steps           = 2000\n",
        "* Standrdization of Input   = True(data/255)"
      ]
    },
    {
      "cell_type": "code",
      "metadata": {
        "id": "TRxd49YBtMY_",
        "colab_type": "code",
        "colab": {
          "base_uri": "https://localhost:8080/",
          "height": 590
        },
        "outputId": "e7773336-c9b6-4d7a-f0f6-012ce87723dd"
      },
      "source": [
        "loss_list = []\n",
        "step_list = []\n",
        "num_of_steps = 2000\n",
        "learning_rate1 = 0.1\n",
        "number_of_units_in_layer1 = 512\n",
        "\n",
        "w1 = tf.Variable(tf.random.uniform([number_of_dimensions,number_of_units_in_layer1],minval = -0.1, maxval=0.1,dtype=tf.dtypes.float32))\n",
        "b1 = tf.Variable(tf.random.uniform([number_of_units_in_layer1],minval = -0.1, maxval=0.1,dtype=tf.dtypes.float32))\n",
        "\n",
        "w2 = tf.Variable(tf.random.uniform([number_of_units_in_layer1,number_of_labels],minval = -0.1, maxval=0.1,dtype=tf.dtypes.float32))\n",
        "b2 = tf.Variable(tf.random.uniform([number_of_labels],minval = -0.1, maxval=0.1,dtype=tf.dtypes.float32))\n",
        "\n",
        "print('Shape of weight matrix of hidden layer \"w1\": ' + str(w1.shape))\n",
        "print('Shape of bias matrix of hidden layer \"b1\"  : ' + str(b1.shape))\n",
        "\n",
        "print('Shape of weight matrix of output layer \"w2\": ' + str(w2.shape))\n",
        "print('Shape of bias matrix of output layer \"b2\"  : ' + str(b2.shape))\n",
        "print('- '*40)\n",
        "\n",
        "for step in range(num_of_steps):\n",
        "  image_batch,label_batch = data.next_batch()\n",
        "  #This will update the batch size after every steps\n",
        "  with tf.GradientTape() as tape:#for monitoring every change to tensors\n",
        "    #logits1 = tf.matmul(image_batch,w1)+b1# image_batch.shape = (128 x 784), w1.shape= (784x128), \n",
        "    # image_batch x w1 = logits1, logits1 = (128x128)\n",
        "    hidden1 = tf.nn.relu(tf.matmul(image_batch,w1)+b1)\n",
        "    logits = tf.matmul(hidden1,w2)+b2\n",
        "    loss = tf.reduce_mean(tf.nn.sparse_softmax_cross_entropy_with_logits(logits=logits, labels=label_batch))\n",
        "    loss_list.append(loss)\n",
        "  grads = tape.gradient(loss, [w2,b2,w1,b1])\n",
        "  w2.assign_sub(learning_rate1*grads[0])#updating weights\n",
        "  b2.assign_sub(learning_rate1*grads[1])#updating \n",
        "  w1.assign_sub(learning_rate1*grads[2])\n",
        "  b1.assign_sub(learning_rate1*grads[3])\n",
        "  step_list.append(step)\n",
        "  if not step%100:# updating after 100 steps only\n",
        "    preds = tf.argmax(logits,axis = 1, output_type = tf.int32)#selecting max value's index\n",
        "    acc   = (tf.reduce_mean(tf.cast(tf.equal(preds, label_batch),tf.float32)))*100# comparing predicted value and actual value\n",
        "    #returning a binary output. Further checking number of correct classification and calculating accuracy.\n",
        "    print(\"Loss: {}, Accuracy on Training Data: {}\".format(loss,acc))\n",
        "\n",
        "print('- '*40)\n",
        "\n",
        "test_prediction1 = tf.nn.relu(tf.matmul(data.test_data,w1)+b1)\n",
        "test_predictions = tf.argmax(tf.matmul(test_prediction1,w2)+b2, axis = 1, output_type= tf.int32)\n",
        "acc = (tf.reduce_mean(tf.cast(tf.equal(test_predictions, data.test_labels),tf.float32)))*100\n",
        "print('Accuracy on Testing Data: {}'.format(acc))"
      ],
      "execution_count": null,
      "outputs": [
        {
          "output_type": "stream",
          "text": [
            "Shape of weight matrix of hidden layer \"w1\": (784, 512)\n",
            "Shape of bias matrix of hidden layer \"b1\"  : (512,)\n",
            "Shape of weight matrix of output layer \"w2\": (512, 10)\n",
            "Shape of bias matrix of output layer \"b2\"  : (10,)\n",
            "- - - - - - - - - - - - - - - - - - - - - - - - - - - - - - - - - - - - - - - - \n",
            "Loss: 2.4577512741088867, Accuracy on Training Data: 10.9375\n",
            "Loss: 0.4905436635017395, Accuracy on Training Data: 86.71875\n",
            "Loss: 0.4011951684951782, Accuracy on Training Data: 88.28125\n",
            "Loss: 0.40775296092033386, Accuracy on Training Data: 86.71875\n",
            "Starting new epoch...\n",
            "Loss: 0.3700048625469208, Accuracy on Training Data: 89.0625\n",
            "Loss: 0.19967417418956757, Accuracy on Training Data: 92.96875\n",
            "Loss: 0.19747653603553772, Accuracy on Training Data: 94.53125\n",
            "Loss: 0.22258786857128143, Accuracy on Training Data: 93.75\n",
            "Loss: 0.1430950164794922, Accuracy on Training Data: 96.09375\n",
            "Starting new epoch...\n",
            "Loss: 0.17045295238494873, Accuracy on Training Data: 96.09375\n",
            "Loss: 0.20524677634239197, Accuracy on Training Data: 95.3125\n",
            "Loss: 0.13888192176818848, Accuracy on Training Data: 96.875\n",
            "Loss: 0.10397802293300629, Accuracy on Training Data: 96.875\n",
            "Starting new epoch...\n",
            "Loss: 0.19286979734897614, Accuracy on Training Data: 92.1875\n",
            "Loss: 0.2133902609348297, Accuracy on Training Data: 96.875\n",
            "Loss: 0.1795857846736908, Accuracy on Training Data: 96.09375\n",
            "Loss: 0.09939661622047424, Accuracy on Training Data: 97.65625\n",
            "Loss: 0.1913256049156189, Accuracy on Training Data: 95.3125\n",
            "Starting new epoch...\n",
            "Loss: 0.1199025809764862, Accuracy on Training Data: 96.875\n",
            "Loss: 0.12224478274583817, Accuracy on Training Data: 96.875\n",
            "- - - - - - - - - - - - - - - - - - - - - - - - - - - - - - - - - - - - - - - - \n",
            "Accuracy on Testing Data: 95.59000396728516\n"
          ],
          "name": "stdout"
        }
      ]
    },
    {
      "cell_type": "code",
      "metadata": {
        "id": "4AwGECmDj4kQ",
        "colab_type": "code",
        "colab": {
          "base_uri": "https://localhost:8080/",
          "height": 297
        },
        "outputId": "be88309b-83c5-4947-d009-68d2579f533e"
      },
      "source": [
        "plt.figure()\n",
        "plt.plot(step_list,loss_list)\n",
        "plt.xlabel('Training Steps')\n",
        "plt.ylabel('Loss')"
      ],
      "execution_count": null,
      "outputs": [
        {
          "output_type": "execute_result",
          "data": {
            "text/plain": [
              "Text(0, 0.5, 'Loss')"
            ]
          },
          "metadata": {
            "tags": []
          },
          "execution_count": 26
        },
        {
          "output_type": "display_data",
          "data": {
            "image/png": "[encoded data removed]",
            "text/plain": [
              "<Figure size 432x288 with 1 Axes>"
            ]
          },
          "metadata": {
            "tags": [],
            "needs_background": "light"
          }
        }
      ]
    },
    {
      "cell_type": "markdown",
      "metadata": {
        "id": "LAQtaecH0VuI",
        "colab_type": "text"
      },
      "source": [
        "Model 3:- Changing Number of Units in Hidden Layer\n",
        "________________________________________________________________________________\n",
        "* No. of Hidden Layers      = 1\n",
        "* Number of Units in Layers = 1024(changed)\n",
        "* Learinng Rate             = 0.1\n",
        "* Initialization of Bias    = between -0.1 to 0.1\n",
        "* Initialization of weights = between -0.1 to 0.1\n",
        "* Hidden Layer Act. Func.   = relu\n",
        "* Output Layer Act. Func.   = softmax with cross entropy loss function\n",
        "* Input Batch Size          = 128\n",
        "* Number of Steps           = 2000\n",
        "* Standrdization of Input   = True(data/255)"
      ]
    },
    {
      "cell_type": "code",
      "metadata": {
        "id": "Rbuds90UzRAr",
        "colab_type": "code",
        "colab": {
          "base_uri": "https://localhost:8080/",
          "height": 590
        },
        "outputId": "d5c953ec-00d6-4ed0-98c0-c4dd1eab41a7"
      },
      "source": [
        "num_of_steps = 2000\n",
        "learning_rate1 = 0.1\n",
        "number_of_units_in_layer1 = 1024\n",
        "\n",
        "w1 = tf.Variable(tf.random.uniform([number_of_dimensions,number_of_units_in_layer1],minval = -0.1, maxval=0.1,dtype=tf.dtypes.float32))\n",
        "b1 = tf.Variable(tf.random.uniform([number_of_units_in_layer1],minval = -0.1, maxval=0.1,dtype=tf.dtypes.float32))\n",
        "\n",
        "w2 = tf.Variable(tf.random.uniform([number_of_units_in_layer1,number_of_labels],minval = -0.1, maxval=0.1,dtype=tf.dtypes.float32))\n",
        "b2 = tf.Variable(tf.random.uniform([number_of_labels],minval = -0.1, maxval=0.1,dtype=tf.dtypes.float32))\n",
        "\n",
        "print('Shape of weight matrix of hidden layer \"w1\": ' + str(w1.shape))\n",
        "print('Shape of bias matrix of hidden layer \"b1\"  : ' + str(b1.shape))\n",
        "\n",
        "print('Shape of weight matrix of output layer \"w2\": ' + str(w2.shape))\n",
        "print('Shape of bias matrix of output layer \"b2\"  : ' + str(b2.shape))\n",
        "print('- '*40)\n",
        "\n",
        "for step in range(num_of_steps):\n",
        "  image_batch,label_batch = data.next_batch()\n",
        "  #This will update the batch size after every steps\n",
        "  with tf.GradientTape() as tape:#for monitoring every change to tensors\n",
        "    #logits1 = tf.matmul(image_batch,w1)+b1# image_batch.shape = (128 x 784), w1.shape= (784x128), \n",
        "    # image_batch x w1 = logits1, logits1 = (128x128)\n",
        "    hidden1 = tf.nn.relu(tf.matmul(image_batch,w1)+b1)\n",
        "    logits = tf.matmul(hidden1,w2)+b2\n",
        "    loss = tf.reduce_mean(tf.nn.sparse_softmax_cross_entropy_with_logits(logits=logits, labels=label_batch))\n",
        "  grads = tape.gradient(loss, [w2,b2,w1,b1])\n",
        "  w2.assign_sub(learning_rate1*grads[0])#updating weights\n",
        "  b2.assign_sub(learning_rate1*grads[1])#updating \n",
        "  w1.assign_sub(learning_rate1*grads[2])\n",
        "  b1.assign_sub(learning_rate1*grads[3])\n",
        "\n",
        "  if not step%100:# updating after 100 steps only\n",
        "    preds = tf.argmax(logits,axis = 1, output_type = tf.int32)#selecting max value's index\n",
        "    acc   = (tf.reduce_mean(tf.cast(tf.equal(preds, label_batch),tf.float32)))*100# comparing predicted value and actual value\n",
        "    #returning a binary output. Further checking number of correct classification and calculating accuracy.\n",
        "    print(\"Loss: {}, Accuracy on Training Data: {}\".format(loss,acc))\n",
        "\n",
        "print('- '*40)\n",
        "\n",
        "test_prediction1 = tf.nn.relu(tf.matmul(data.test_data,w1)+b1)\n",
        "test_predictions = tf.argmax(tf.matmul(test_prediction1,w2)+b2, axis = 1, output_type= tf.int32)\n",
        "acc = (tf.reduce_mean(tf.cast(tf.equal(test_predictions, data.test_labels),tf.float32)))*100\n",
        "print('Accuracy on Testing Data: {}'.format(acc))"
      ],
      "execution_count": null,
      "outputs": [
        {
          "output_type": "stream",
          "text": [
            "Shape of weight matrix of hidden layer \"w1\": (784, 1024)\n",
            "Shape of bias matrix of hidden layer \"b1\"  : (1024,)\n",
            "Shape of weight matrix of output layer \"w2\": (1024, 10)\n",
            "Shape of bias matrix of output layer \"b2\"  : (10,)\n",
            "- - - - - - - - - - - - - - - - - - - - - - - - - - - - - - - - - - - - - - - - \n",
            "Loss: 2.587939739227295, Accuracy on Training Data: 4.6875\n",
            "Loss: 0.28965240716934204, Accuracy on Training Data: 93.75\n",
            "Loss: 0.23942892253398895, Accuracy on Training Data: 93.75\n",
            "Starting new epoch...\n",
            "Loss: 0.3164699673652649, Accuracy on Training Data: 94.53125\n",
            "Loss: 0.24578410387039185, Accuracy on Training Data: 89.84375\n",
            "Loss: 0.27408385276794434, Accuracy on Training Data: 92.96875\n",
            "Loss: 0.17901751399040222, Accuracy on Training Data: 94.53125\n",
            "Starting new epoch...\n",
            "Loss: 0.2056504637002945, Accuracy on Training Data: 91.40625\n",
            "Loss: 0.18679648637771606, Accuracy on Training Data: 92.96875\n",
            "Loss: 0.15492749214172363, Accuracy on Training Data: 93.75\n",
            "Loss: 0.21231968700885773, Accuracy on Training Data: 93.75\n",
            "Loss: 0.12099659442901611, Accuracy on Training Data: 95.3125\n",
            "Starting new epoch...\n",
            "Loss: 0.12130675464868546, Accuracy on Training Data: 96.09375\n",
            "Loss: 0.14027339220046997, Accuracy on Training Data: 96.875\n",
            "Loss: 0.10778789222240448, Accuracy on Training Data: 98.4375\n",
            "Loss: 0.17982156574726105, Accuracy on Training Data: 95.3125\n",
            "Loss: 0.15823842585086823, Accuracy on Training Data: 96.09375\n",
            "Starting new epoch...\n",
            "Loss: 0.084525465965271, Accuracy on Training Data: 97.65625\n",
            "Loss: 0.1451718658208847, Accuracy on Training Data: 97.65625\n",
            "Loss: 0.12317144870758057, Accuracy on Training Data: 96.875\n",
            "- - - - - - - - - - - - - - - - - - - - - - - - - - - - - - - - - - - - - - - - \n",
            "Accuracy on Testing Data: 96.19000244140625\n"
          ],
          "name": "stdout"
        }
      ]
    },
    {
      "cell_type": "markdown",
      "metadata": {
        "id": "0sTQxZF60pmd",
        "colab_type": "text"
      },
      "source": [
        "Model 4:- Changing Learning Rate\n",
        "________________________________________________________________________________\n",
        "* No. of Hidden Layers      = 1\n",
        "* Number of Units in Layer1 = 128\n",
        "* Learinng Rate             = 0.05(changed)\n",
        "* Initialization of Bias    = between -0.1 to 0.1\n",
        "* Initialization of weights = between -0.1 to 0.1\n",
        "* Hidden Layer Act. Func.   = relu\n",
        "* Output Layer Act. Func.   = softmax with cross entropy loss function\n",
        "* Input Batch Size          = 128\n",
        "* Number of Steps           = 2000\n",
        "* Standrdization of Input   = True(data/255)"
      ]
    },
    {
      "cell_type": "code",
      "metadata": {
        "id": "YPosrGNr0iJ6",
        "colab_type": "code",
        "colab": {
          "base_uri": "https://localhost:8080/",
          "height": 590
        },
        "outputId": "d305f4f1-316b-45f8-d3e7-9641155bfd64"
      },
      "source": [
        "num_of_steps = 2000\n",
        "learning_rate1 = 0.05\n",
        "number_of_units_in_layer1 = 128\n",
        "\n",
        "w1 = tf.Variable(tf.random.uniform([number_of_dimensions,number_of_units_in_layer1],minval = -0.1, maxval=0.1,dtype=tf.dtypes.float32))\n",
        "b1 = tf.Variable(tf.random.uniform([number_of_units_in_layer1],minval = -0.1, maxval=0.1,dtype=tf.dtypes.float32))\n",
        "\n",
        "w2 = tf.Variable(tf.random.uniform([number_of_units_in_layer1,number_of_labels],minval = -0.1, maxval=0.1,dtype=tf.dtypes.float32))\n",
        "b2 = tf.Variable(tf.random.uniform([number_of_labels],minval = -0.1, maxval=0.1,dtype=tf.dtypes.float32))\n",
        "\n",
        "print('Shape of weight matrix of hidden layer \"w1\": ' + str(w1.shape))\n",
        "print('Shape of bias matrix of hidden layer \"b1\"  : ' + str(b1.shape))\n",
        "\n",
        "print('Shape of weight matrix of output layer \"w2\": ' + str(w2.shape))\n",
        "print('Shape of bias matrix of output layer \"b2\"  : ' + str(b2.shape))\n",
        "print('- '*40)\n",
        "\n",
        "for step in range(num_of_steps):\n",
        "  image_batch,label_batch = data.next_batch()\n",
        "  #This will update the batch size after every steps\n",
        "  with tf.GradientTape() as tape:#for monitoring every change to tensors\n",
        "    #logits1 = tf.matmul(image_batch,w1)+b1# image_batch.shape = (128 x 784), w1.shape= (784x128), \n",
        "    # image_batch x w1 = logits1, logits1 = (128x128)\n",
        "    hidden1 = tf.nn.relu(tf.matmul(image_batch,w1)+b1)\n",
        "    logits = tf.matmul(hidden1,w2)+b2\n",
        "    loss = tf.reduce_mean(tf.nn.sparse_softmax_cross_entropy_with_logits(logits=logits, labels=label_batch))\n",
        "  grads = tape.gradient(loss, [w2,b2,w1,b1])\n",
        "  w2.assign_sub(learning_rate1*grads[0])#updating weights\n",
        "  b2.assign_sub(learning_rate1*grads[1])#updating \n",
        "  w1.assign_sub(learning_rate1*grads[2])\n",
        "  b1.assign_sub(learning_rate1*grads[3])\n",
        "\n",
        "  if not step%100:# updating after 100 steps only\n",
        "    preds = tf.argmax(logits,axis = 1, output_type = tf.int32)#selecting max value's index\n",
        "    acc   = (tf.reduce_mean(tf.cast(tf.equal(preds, label_batch),tf.float32)))*100# comparing predicted value and actual value\n",
        "    #returning a binary output. Further checking number of correct classification and calculating accuracy.\n",
        "    print(\"Loss: {}, Accuracy on Training Data: {}\".format(loss,acc))\n",
        "\n",
        "print('- '*40)\n",
        "\n",
        "test_prediction1 = tf.nn.relu(tf.matmul(data.test_data,w1)+b1)\n",
        "test_predictions = tf.argmax(tf.matmul(test_prediction1,w2)+b2, axis = 1, output_type= tf.int32)\n",
        "acc = (tf.reduce_mean(tf.cast(tf.equal(test_predictions, data.test_labels),tf.float32)))*100\n",
        "print('Accuracy on Testing Data: {}'.format(acc))"
      ],
      "execution_count": null,
      "outputs": [
        {
          "output_type": "stream",
          "text": [
            "Shape of weight matrix of hidden layer \"w1\": (784, 128)\n",
            "Shape of bias matrix of hidden layer \"b1\"  : (128,)\n",
            "Shape of weight matrix of output layer \"w2\": (128, 10)\n",
            "Shape of bias matrix of output layer \"b2\"  : (10,)\n",
            "- - - - - - - - - - - - - - - - - - - - - - - - - - - - - - - - - - - - - - - - \n",
            "Loss: 2.3072848320007324, Accuracy on Training Data: 8.59375\n",
            "Loss: 0.8975217938423157, Accuracy on Training Data: 79.6875\n",
            "Loss: 0.567062258720398, Accuracy on Training Data: 85.9375\n",
            "Loss: 0.40033408999443054, Accuracy on Training Data: 92.1875\n",
            "Loss: 0.45763954520225525, Accuracy on Training Data: 89.84375\n",
            "Starting new epoch...\n",
            "Loss: 0.28408336639404297, Accuracy on Training Data: 91.40625\n",
            "Loss: 0.3539995551109314, Accuracy on Training Data: 91.40625\n",
            "Loss: 0.30936363339424133, Accuracy on Training Data: 89.0625\n",
            "Loss: 0.3112162947654724, Accuracy on Training Data: 91.40625\n",
            "Loss: 0.2672373056411743, Accuracy on Training Data: 89.84375\n",
            "Starting new epoch...\n",
            "Loss: 0.39068055152893066, Accuracy on Training Data: 88.28125\n",
            "Loss: 0.24736182391643524, Accuracy on Training Data: 94.53125\n",
            "Loss: 0.2888745665550232, Accuracy on Training Data: 94.53125\n",
            "Loss: 0.3698781132698059, Accuracy on Training Data: 87.5\n",
            "Starting new epoch...\n",
            "Loss: 0.36992618441581726, Accuracy on Training Data: 88.28125\n",
            "Loss: 0.30895182490348816, Accuracy on Training Data: 90.625\n",
            "Loss: 0.2755335569381714, Accuracy on Training Data: 92.1875\n",
            "Loss: 0.13841216266155243, Accuracy on Training Data: 95.3125\n",
            "Loss: 0.3733394145965576, Accuracy on Training Data: 91.40625\n",
            "Starting new epoch...\n",
            "Loss: 0.17983278632164001, Accuracy on Training Data: 96.09375\n",
            "- - - - - - - - - - - - - - - - - - - - - - - - - - - - - - - - - - - - - - - - \n",
            "Accuracy on Testing Data: 93.22000122070312\n"
          ],
          "name": "stdout"
        }
      ]
    },
    {
      "cell_type": "markdown",
      "metadata": {
        "id": "U2-diIk72zzD",
        "colab_type": "text"
      },
      "source": [
        "Model 5:- Changing Bias Initialization\n",
        "________________________________________________________________________________\n",
        "* No. of Hidden Layers      = 1\n",
        "* Number of Units in Layer1 = 128\n",
        "* Learinng Rate             = 0.1\n",
        "* Initialization of Bias    = 0(changed)\n",
        "* Initialization of weights = between -0.1 to 0.1\n",
        "* Hidden Layer Act. Func.   = relu\n",
        "* Output Layer Act. Func.   = softmax with cross entropy loss function\n",
        "* Input Batch Size          = 128\n",
        "* Number of Steps           = 2000\n",
        "* Standrdization of Input   = True(data/255)"
      ]
    },
    {
      "cell_type": "code",
      "metadata": {
        "id": "4q2B-K5n2509",
        "colab_type": "code",
        "colab": {
          "base_uri": "https://localhost:8080/",
          "height": 590
        },
        "outputId": "5bd0b520-0a77-4da9-e1ac-256c2970b7fd"
      },
      "source": [
        "num_of_steps = 2000\n",
        "learning_rate1 = 0.1\n",
        "number_of_units_in_layer1 = 128\n",
        "\n",
        "w1 = tf.Variable(tf.random.uniform([number_of_dimensions,number_of_units_in_layer1],minval = -0.1, maxval=0.1,dtype=tf.dtypes.float32))\n",
        "b1 = tf.Variable(np.zeros(number_of_units_in_layer1, dtype=np.float32))\n",
        "\n",
        "w2 = tf.Variable(tf.random.uniform([number_of_units_in_layer1,number_of_labels],minval = -0.1, maxval=0.1,dtype=tf.dtypes.float32))\n",
        "b2 = tf.Variable(np.zeros(number_of_labels, dtype=np.float32))\n",
        "\n",
        "print('Shape of weight matrix of hidden layer \"w1\": ' + str(w1.shape))\n",
        "print('Shape of bias matrix of hidden layer \"b1\"  : ' + str(b1.shape))\n",
        "\n",
        "print('Shape of weight matrix of output layer \"w2\": ' + str(w2.shape))\n",
        "print('Shape of bias matrix of output layer \"b2\"  : ' + str(b2.shape))\n",
        "print('- '*40)\n",
        "\n",
        "for step in range(num_of_steps):\n",
        "  image_batch,label_batch = data.next_batch()\n",
        "  #This will update the batch size after every steps\n",
        "  with tf.GradientTape() as tape:#for monitoring every change to tensors\n",
        "    #logits1 = tf.matmul(image_batch,w1)+b1# image_batch.shape = (128 x 784), w1.shape= (784x128), \n",
        "    # image_batch x w1 = logits1, logits1 = (128x128)\n",
        "    hidden1 = tf.nn.relu(tf.matmul(image_batch,w1)+b1)\n",
        "    logits = tf.matmul(hidden1,w2)+b2\n",
        "    loss = tf.reduce_mean(tf.nn.sparse_softmax_cross_entropy_with_logits(logits=logits, labels=label_batch))\n",
        "  grads = tape.gradient(loss, [w2,b2,w1,b1])\n",
        "  w2.assign_sub(learning_rate1*grads[0])#updating weights\n",
        "  b2.assign_sub(learning_rate1*grads[1])#updating \n",
        "  w1.assign_sub(learning_rate1*grads[2])\n",
        "  b1.assign_sub(learning_rate1*grads[3])\n",
        "\n",
        "  if not step%100:# updating after 100 steps only\n",
        "    preds = tf.argmax(logits,axis = 1, output_type = tf.int32)#selecting max value's index\n",
        "    acc   = (tf.reduce_mean(tf.cast(tf.equal(preds, label_batch),tf.float32)))*100# comparing predicted value and actual value\n",
        "    #returning a binary output. Further checking number of correct classification and calculating accuracy.\n",
        "    print(\"Loss: {}, Accuracy on Training Data: {}\".format(loss,acc))\n",
        "\n",
        "print('- '*40)\n",
        "\n",
        "test_prediction1 = tf.nn.relu(tf.matmul(data.test_data,w1)+b1)\n",
        "test_predictions = tf.argmax(tf.matmul(test_prediction1,w2)+b2, axis = 1, output_type= tf.int32)\n",
        "acc = (tf.reduce_mean(tf.cast(tf.equal(test_predictions, data.test_labels),tf.float32)))*100\n",
        "print('Accuracy on Testing Data: {}'.format(acc))"
      ],
      "execution_count": null,
      "outputs": [
        {
          "output_type": "stream",
          "text": [
            "Shape of weight matrix of hidden layer \"w1\": (784, 128)\n",
            "Shape of bias matrix of hidden layer \"b1\"  : (128,)\n",
            "Shape of weight matrix of output layer \"w2\": (128, 10)\n",
            "Shape of bias matrix of output layer \"b2\"  : (10,)\n",
            "- - - - - - - - - - - - - - - - - - - - - - - - - - - - - - - - - - - - - - - - \n",
            "Loss: 2.3312501907348633, Accuracy on Training Data: 9.375\n",
            "Loss: 0.49815547466278076, Accuracy on Training Data: 86.71875\n",
            "Loss: 0.32138195633888245, Accuracy on Training Data: 90.625\n",
            "Loss: 0.32819268107414246, Accuracy on Training Data: 87.5\n",
            "Starting new epoch...\n",
            "Loss: 0.37355509400367737, Accuracy on Training Data: 91.40625\n",
            "Loss: 0.38643524050712585, Accuracy on Training Data: 86.71875\n",
            "Loss: 0.29563677310943604, Accuracy on Training Data: 92.1875\n",
            "Loss: 0.14396220445632935, Accuracy on Training Data: 96.875\n",
            "Starting new epoch...\n",
            "Loss: 0.24441081285476685, Accuracy on Training Data: 93.75\n",
            "Loss: 0.19577205181121826, Accuracy on Training Data: 93.75\n",
            "Loss: 0.33344489336013794, Accuracy on Training Data: 90.625\n",
            "Loss: 0.14863920211791992, Accuracy on Training Data: 96.875\n",
            "Loss: 0.22832271456718445, Accuracy on Training Data: 94.53125\n",
            "Starting new epoch...\n",
            "Loss: 0.2598670423030853, Accuracy on Training Data: 92.96875\n",
            "Loss: 0.24625366926193237, Accuracy on Training Data: 94.53125\n",
            "Loss: 0.15360696613788605, Accuracy on Training Data: 95.3125\n",
            "Loss: 0.2896645963191986, Accuracy on Training Data: 89.84375\n",
            "Loss: 0.2533664107322693, Accuracy on Training Data: 93.75\n",
            "Starting new epoch...\n",
            "Loss: 0.19535121321678162, Accuracy on Training Data: 93.75\n",
            "Loss: 0.15196874737739563, Accuracy on Training Data: 98.4375\n",
            "- - - - - - - - - - - - - - - - - - - - - - - - - - - - - - - - - - - - - - - - \n",
            "Accuracy on Testing Data: 94.9000015258789\n"
          ],
          "name": "stdout"
        }
      ]
    },
    {
      "cell_type": "markdown",
      "metadata": {
        "id": "QlDSprgs3lU6",
        "colab_type": "text"
      },
      "source": [
        "Model 6:- Changing both Bias and Weights Initialization\n",
        "________________________________________________________________________________\n",
        "* No. of Hidden Layers      = 1\n",
        "* Number of Units in Layer1 = 128\n",
        "* Learinng Rate             = 0.1\n",
        "* Initialization of Bias    = 0(changed)\n",
        "* Initialization of weights = 0(changed)\n",
        "* Hidden Layer Act. Func.   = relu\n",
        "* Output Layer Act. Func.   = softmax with cross entropy loss function\n",
        "* Input Batch Size          = 128\n",
        "* Number of Steps           = 2000\n",
        "* Standrdization of Input   = True(data/255)"
      ]
    },
    {
      "cell_type": "code",
      "metadata": {
        "id": "36gz_njS2pqw",
        "colab_type": "code",
        "colab": {
          "base_uri": "https://localhost:8080/",
          "height": 590
        },
        "outputId": "52e3b378-fd1f-4c2e-ab1b-a1859b1e8d00"
      },
      "source": [
        "num_of_steps = 2000\n",
        "learning_rate1 = 0.1\n",
        "number_of_units_in_layer1 = 128\n",
        "\n",
        "w1 = tf.Variable(np.zeros([number_of_dimensions,number_of_units_in_layer1],dtype=np.float32))\n",
        "b1 = tf.Variable(np.zeros(number_of_units_in_layer1, dtype=np.float32))\n",
        "\n",
        "w2 = tf.Variable(np.zeros([number_of_units_in_layer1,number_of_labels],dtype=np.float32))\n",
        "b2 = tf.Variable(np.zeros(number_of_labels, dtype=np.float32))\n",
        "\n",
        "print('Shape of weight matrix of hidden layer \"w1\": ' + str(w1.shape))\n",
        "print('Shape of bias matrix of hidden layer \"b1\"  : ' + str(b1.shape))\n",
        "\n",
        "print('Shape of weight matrix of output layer \"w2\": ' + str(w2.shape))\n",
        "print('Shape of bias matrix of output layer \"b2\"  : ' + str(b2.shape))\n",
        "print('- '*40)\n",
        "\n",
        "for step in range(num_of_steps):\n",
        "  image_batch,label_batch = data.next_batch()\n",
        "  #This will update the batch size after every steps\n",
        "  with tf.GradientTape() as tape:#for monitoring every change to tensors\n",
        "    #logits1 = tf.matmul(image_batch,w1)+b1# image_batch.shape = (128 x 784), w1.shape= (784x128), \n",
        "    # image_batch x w1 = logits1, logits1 = (128x128)\n",
        "    hidden1 = tf.nn.relu(tf.matmul(image_batch,w1)+b1)\n",
        "    logits = tf.matmul(hidden1,w2)+b2\n",
        "    loss = tf.reduce_mean(tf.nn.sparse_softmax_cross_entropy_with_logits(logits=logits, labels=label_batch))\n",
        "  grads = tape.gradient(loss, [w2,b2,w1,b1])\n",
        "  w2.assign_sub(learning_rate1*grads[0])#updating weights\n",
        "  b2.assign_sub(learning_rate1*grads[1])#updating \n",
        "  w1.assign_sub(learning_rate1*grads[2])\n",
        "  b1.assign_sub(learning_rate1*grads[3])\n",
        "\n",
        "  if not step%100:# updating after 100 steps only\n",
        "    preds = tf.argmax(logits,axis = 1, output_type = tf.int32)#selecting max value's index\n",
        "    acc   = (tf.reduce_mean(tf.cast(tf.equal(preds, label_batch),tf.float32)))*100# comparing predicted value and actual value\n",
        "    #returning a binary output. Further checking number of correct classification and calculating accuracy.\n",
        "    print(\"Loss: {}, Accuracy on Training Data: {}\".format(loss,acc))\n",
        "\n",
        "print('- '*40)\n",
        "\n",
        "test_prediction1 = tf.nn.relu(tf.matmul(data.test_data,w1)+b1)\n",
        "test_predictions = tf.argmax(tf.matmul(test_prediction1,w2)+b2, axis = 1, output_type= tf.int32)\n",
        "acc = (tf.reduce_mean(tf.cast(tf.equal(test_predictions, data.test_labels),tf.float32)))*100\n",
        "print('Accuracy on Testing Data: {}'.format(acc))"
      ],
      "execution_count": null,
      "outputs": [
        {
          "output_type": "stream",
          "text": [
            "Shape of weight matrix of hidden layer \"w1\": (784, 128)\n",
            "Shape of bias matrix of hidden layer \"b1\"  : (128,)\n",
            "Shape of weight matrix of output layer \"w2\": (128, 10)\n",
            "Shape of bias matrix of output layer \"b2\"  : (10,)\n",
            "- - - - - - - - - - - - - - - - - - - - - - - - - - - - - - - - - - - - - - - - \n",
            "Loss: 2.3025851249694824, Accuracy on Training Data: 8.59375\n",
            "Loss: 2.300593852996826, Accuracy on Training Data: 14.0625\n",
            "Starting new epoch...\n",
            "Loss: 2.298430919647217, Accuracy on Training Data: 14.0625\n",
            "Loss: 2.2872414588928223, Accuracy on Training Data: 17.96875\n",
            "Loss: 2.3022220134735107, Accuracy on Training Data: 10.15625\n",
            "Loss: 2.3003876209259033, Accuracy on Training Data: 12.5\n",
            "Loss: 2.3060402870178223, Accuracy on Training Data: 10.15625\n",
            "Starting new epoch...\n",
            "Loss: 2.305267333984375, Accuracy on Training Data: 7.8125\n",
            "Loss: 2.299206256866455, Accuracy on Training Data: 12.5\n",
            "Loss: 2.302111864089966, Accuracy on Training Data: 11.71875\n",
            "Loss: 2.3056254386901855, Accuracy on Training Data: 10.15625\n",
            "Loss: 2.3032453060150146, Accuracy on Training Data: 13.28125\n",
            "Starting new epoch...\n",
            "Loss: 2.3040337562561035, Accuracy on Training Data: 10.15625\n",
            "Loss: 2.3003053665161133, Accuracy on Training Data: 10.15625\n",
            "Loss: 2.302067518234253, Accuracy on Training Data: 11.71875\n",
            "Loss: 2.30505633354187, Accuracy on Training Data: 4.6875\n",
            "Starting new epoch...\n",
            "Loss: 2.3001925945281982, Accuracy on Training Data: 15.625\n",
            "Loss: 2.2982354164123535, Accuracy on Training Data: 12.5\n",
            "Loss: 2.295389175415039, Accuracy on Training Data: 14.0625\n",
            "Loss: 2.2957518100738525, Accuracy on Training Data: 13.28125\n",
            "- - - - - - - - - - - - - - - - - - - - - - - - - - - - - - - - - - - - - - - - \n",
            "Accuracy on Testing Data: 11.350000381469727\n"
          ],
          "name": "stdout"
        }
      ]
    },
    {
      "cell_type": "markdown",
      "metadata": {
        "id": "P4wcYmOB4tci",
        "colab_type": "text"
      },
      "source": [
        "Model 7:- Adding one more Layer(2 Hidden Layers)\n",
        "________________________________________________________________________________\n",
        "* No. of Hidden Layers      = 2(changed)\n",
        "* Number of Units in Layer1 = 512(changed)\n",
        "* Number of Units in Layer2 = 256(changed)\n",
        "* Learinng Rate             = 0.1\n",
        "* Initialization of Bias    = between -0.1 to 0.1\n",
        "* Initialization of weights = between -0.1 to 0.1\n",
        "* Hidden Layer Act. Func.   = relu\n",
        "* Output Layer Act. Func.   = softmax with cross entropy loss function\n",
        "* Input Batch Size          = 128\n",
        "* Number of Steps           = 2000\n",
        "* Standrdization of Input   = True(data/255)"
      ]
    },
    {
      "cell_type": "code",
      "metadata": {
        "id": "4uSTdMUH4VX7",
        "colab_type": "code",
        "colab": {
          "base_uri": "https://localhost:8080/",
          "height": 645
        },
        "outputId": "a676abff-cf9c-4f11-fb89-1c7c9611de57"
      },
      "source": [
        "num_of_steps = 2000\n",
        "learning_rate1 = 0.1\n",
        "number_of_units_in_layer1 = 512\n",
        "number_of_units_in_layer2 = 256\n",
        "\n",
        "w1 = tf.Variable(tf.random.uniform([number_of_dimensions,number_of_units_in_layer1],minval = -0.1, maxval=0.1,dtype=tf.dtypes.float32))#w1 matrix = (784 x 256)\n",
        "b1 = tf.Variable(tf.random.uniform([number_of_units_in_layer1],minval = -0.1, maxval=0.1,dtype=tf.dtypes.float32))# b1 array = (256,)\n",
        "\n",
        "w2 = tf.Variable(tf.random.uniform([number_of_units_in_layer1,number_of_units_in_layer2],minval = -0.1, maxval=0.1,dtype=tf.dtypes.float32))#w2 matrix = (256 x 128)\n",
        "b2 = tf.Variable(tf.random.uniform([number_of_units_in_layer2],minval = -0.1, maxval=0.1,dtype=tf.dtypes.float32))# b2 array = (128,)\n",
        "\n",
        "w3 = tf.Variable(tf.random.uniform([number_of_units_in_layer2,number_of_labels],minval = -0.1, maxval=0.1,dtype=tf.dtypes.float32))# w3 matrix = (128 x 10)\n",
        "b3 = tf.Variable(tf.random.uniform([number_of_labels],minval = -0.1, maxval=0.1,dtype=tf.dtypes.float32))# b3 array = (10,)\n",
        "\n",
        "print('Shape of weight matrix of hidden layer \"w1\": ' + str(w1.shape))\n",
        "print('Shape of bias matrix of hidden layer \"b1\"  : ' + str(b1.shape))\n",
        "\n",
        "print('Shape of weight matrix of output layer \"w2\": ' + str(w2.shape))\n",
        "print('Shape of bias matrix of output layer \"b2\"  : ' + str(b2.shape))\n",
        "\n",
        "print('Shape of weight matrix of output layer \"w3\": ' + str(w3.shape))\n",
        "print('Shape of bias matrix of output layer \"b3\"  : ' + str(b3.shape))\n",
        "print('- '*40)\n",
        "\n",
        "for step in range(num_of_steps):\n",
        "  image_batch,label_batch = data.next_batch()\n",
        "  #This will update the batch size after every steps\n",
        "  with tf.GradientTape() as tape:#for monitoring every change to tensors\n",
        "    #logits1 = tf.matmul(image_batch,w1)+b1# image_batch.shape = (128 x 784), w1.shape= (784x128), \n",
        "    # image_batch x w1 = logits1, logits1 = (128x128)\n",
        "    hidden1 = tf.nn.relu(tf.matmul(image_batch,w1)+b1)\n",
        "    hidden2 = tf.nn.relu(tf.matmul(hidden1,w2)+b2)\n",
        "    logits = tf.matmul(hidden2,w3)+b3\n",
        "    loss = tf.reduce_mean(tf.nn.sparse_softmax_cross_entropy_with_logits(logits=logits, labels=label_batch))\n",
        "\n",
        "  grads = tape.gradient(loss, [w3,b3,w2,b2,w1,b1])\n",
        "  w3.assign_sub(learning_rate1*grads[0])\n",
        "  b3.assign_sub(learning_rate1*grads[1])\n",
        "  w2.assign_sub(learning_rate1*grads[2])\n",
        "  b2.assign_sub(learning_rate1*grads[3])\n",
        "  w1.assign_sub(learning_rate1*grads[4])\n",
        "  b1.assign_sub(learning_rate1*grads[5])\n",
        "\n",
        "  if not step%100:# updating after 100 steps only\n",
        "    preds = tf.argmax(logits,axis = 1, output_type = tf.int32)#selecting max value's index\n",
        "    acc   = (tf.reduce_mean(tf.cast(tf.equal(preds, label_batch),tf.float32)))*100# comparing predicted value and actual value\n",
        "    #returning a binary output. Further checking number of correct classification and calculating accuracy.\n",
        "    print(\"Loss: {}, Accuracy on Training Data: {}\".format(loss,acc))\n",
        "\n",
        "print('- '*40)\n",
        "\n",
        "test_prediction1 = tf.nn.relu(tf.matmul(data.test_data,w1)+b1)\n",
        "test_prediction2 = tf.nn.relu(tf.matmul(test_prediction1,w2)+b2)\n",
        "test_predictions = tf.argmax(tf.matmul(test_prediction2,w3)+b3, axis = 1, output_type= tf.int32)\n",
        "acc = (tf.reduce_mean(tf.cast(tf.equal(test_predictions, data.test_labels),tf.float32)))*100\n",
        "print('Accuracy on Testing Data: {}'.format(acc))"
      ],
      "execution_count": null,
      "outputs": [
        {
          "output_type": "stream",
          "text": [
            "Shape of weight matrix of hidden layer \"w1\": (784, 512)\n",
            "Shape of bias matrix of hidden layer \"b1\"  : (512,)\n",
            "Shape of weight matrix of output layer \"w2\": (512, 256)\n",
            "Shape of bias matrix of output layer \"b2\"  : (256,)\n",
            "Shape of weight matrix of output layer \"w3\": (256, 10)\n",
            "Shape of bias matrix of output layer \"b3\"  : (10,)\n",
            "- - - - - - - - - - - - - - - - - - - - - - - - - - - - - - - - - - - - - - - - \n",
            "Loss: 2.394430637359619, Accuracy on Training Data: 7.03125\n",
            "Starting new epoch...\n",
            "Loss: 0.376886785030365, Accuracy on Training Data: 92.1875\n",
            "Loss: 0.42794764041900635, Accuracy on Training Data: 86.71875\n",
            "Loss: 0.2958276569843292, Accuracy on Training Data: 92.1875\n",
            "Loss: 0.22066958248615265, Accuracy on Training Data: 93.75\n",
            "Loss: 0.2593599855899811, Accuracy on Training Data: 91.40625\n",
            "Starting new epoch...\n",
            "Loss: 0.2100566029548645, Accuracy on Training Data: 93.75\n",
            "Loss: 0.15655480325222015, Accuracy on Training Data: 95.3125\n",
            "Loss: 0.13051098585128784, Accuracy on Training Data: 94.53125\n",
            "Loss: 0.15675324201583862, Accuracy on Training Data: 96.875\n",
            "Loss: 0.16540098190307617, Accuracy on Training Data: 94.53125\n",
            "Starting new epoch...\n",
            "Loss: 0.13866931200027466, Accuracy on Training Data: 95.3125\n",
            "Loss: 0.12541072070598602, Accuracy on Training Data: 97.65625\n",
            "Loss: 0.14069393277168274, Accuracy on Training Data: 94.53125\n",
            "Loss: 0.14232224225997925, Accuracy on Training Data: 94.53125\n",
            "Starting new epoch...\n",
            "Loss: 0.13816136121749878, Accuracy on Training Data: 94.53125\n",
            "Loss: 0.062173549085855484, Accuracy on Training Data: 99.21875\n",
            "Loss: 0.1148902028799057, Accuracy on Training Data: 96.09375\n",
            "Loss: 0.10977543145418167, Accuracy on Training Data: 96.875\n",
            "Loss: 0.08189693093299866, Accuracy on Training Data: 97.65625\n",
            "Starting new epoch...\n",
            "- - - - - - - - - - - - - - - - - - - - - - - - - - - - - - - - - - - - - - - - \n",
            "Accuracy on Testing Data: 96.95999908447266\n"
          ],
          "name": "stdout"
        }
      ]
    },
    {
      "cell_type": "markdown",
      "metadata": {
        "id": "_cn6NKfwYr5q",
        "colab_type": "text"
      },
      "source": [
        "Complex network 4 hidden layers"
      ]
    },
    {
      "cell_type": "code",
      "metadata": {
        "id": "inmkwlpaYsjb",
        "colab_type": "code",
        "colab": {
          "base_uri": "https://localhost:8080/",
          "height": 738
        },
        "outputId": "69bec0a8-b5ab-4656-bef1-5f589da4121b"
      },
      "source": [
        "loss_list = []\n",
        "step_list = []\n",
        "num_of_steps = 2000\n",
        "learning_rate1 = 0.1\n",
        "number_of_units_in_layer1 = 1024\n",
        "number_of_units_in_layer2 = 512\n",
        "number_of_units_in_layer3 = 256\n",
        "number_of_units_in_layer4 = 128\n",
        "number_of_units_in_layer5 = 64\n",
        "\n",
        "w1 = tf.Variable(tf.random.uniform([number_of_dimensions,number_of_units_in_layer1],minval = -0.1, maxval=0.1,dtype=tf.dtypes.float32))#w1 matrix = (784 x 1024)\n",
        "b1 = tf.Variable(tf.random.uniform([number_of_units_in_layer1],minval = -0.1, maxval=0.1,dtype=tf.dtypes.float32))# b1 array = (1024,)\n",
        "\n",
        "w2 = tf.Variable(tf.random.uniform([number_of_units_in_layer1,number_of_units_in_layer2],minval = -0.1, maxval=0.1,dtype=tf.dtypes.float32))#w2 matrix = (1024 x 512)\n",
        "b2 = tf.Variable(tf.random.uniform([number_of_units_in_layer2],minval = -0.1, maxval=0.1,dtype=tf.dtypes.float32))# b2 array = (128,)\n",
        "\n",
        "w3 = tf.Variable(tf.random.uniform([number_of_units_in_layer2,number_of_units_in_layer3],minval = -0.1, maxval=0.1,dtype=tf.dtypes.float32))# w3 matrix = (512 x 256)\n",
        "b3 = tf.Variable(tf.random.uniform([number_of_units_in_layer3],minval = -0.1, maxval=0.1,dtype=tf.dtypes.float32))# b3 array = (10,)\n",
        "\n",
        "w4 = tf.Variable(tf.random.uniform([number_of_units_in_layer3,number_of_units_in_layer4],minval = -0.1, maxval=0.1,dtype=tf.dtypes.float32))# w3 matrix = (256 x 128)\n",
        "b4 = tf.Variable(tf.random.uniform([number_of_units_in_layer4],minval = -0.1, maxval=0.1,dtype=tf.dtypes.float32))# b3 array = (10,)\n",
        "\n",
        "w5 = tf.Variable(tf.random.uniform([number_of_units_in_layer4,number_of_units_in_layer5],minval = -0.1, maxval=0.1,dtype=tf.dtypes.float32))# w3 matrix = (128 x 64)\n",
        "b5 = tf.Variable(tf.random.uniform([number_of_units_in_layer5],minval = -0.1, maxval=0.1,dtype=tf.dtypes.float32))# b3 array = (10,)\n",
        "\n",
        "w6 = tf.Variable(tf.random.uniform([number_of_units_in_layer5,number_of_labels],minval = -0.1, maxval=0.1,dtype=tf.dtypes.float32))# w3 matrix = (64 x 10)\n",
        "b6 = tf.Variable(tf.random.uniform([number_of_labels],minval = -0.1, maxval=0.1,dtype=tf.dtypes.float32))# b3 array = (10,)\n",
        "\n",
        "print('Shape of weight matrix of hidden layer \"w1\": ' + str(w1.shape))\n",
        "print('Shape of bias matrix of hidden layer \"b1\"  : ' + str(b1.shape))\n",
        "\n",
        "print('Shape of weight matrix of output layer \"w2\": ' + str(w2.shape))\n",
        "print('Shape of bias matrix of output layer \"b2\"  : ' + str(b2.shape))\n",
        "\n",
        "print('Shape of weight matrix of output layer \"w3\": ' + str(w3.shape))\n",
        "print('Shape of bias matrix of output layer \"b3\"  : ' + str(b3.shape))\n",
        "\n",
        "print('Shape of weight matrix of output layer \"w3\": ' + str(w4.shape))\n",
        "print('Shape of bias matrix of output layer \"b3\"  : ' + str(b4.shape))\n",
        "\n",
        "print('Shape of weight matrix of output layer \"w3\": ' + str(w5.shape))\n",
        "print('Shape of bias matrix of output layer \"b3\"  : ' + str(b5.shape))\n",
        "\n",
        "print('Shape of weight matrix of output layer \"w3\": ' + str(w6.shape))\n",
        "print('Shape of bias matrix of output layer \"b3\"  : ' + str(b6.shape))\n",
        "print('- '*40)\n",
        "\n",
        "for step in range(num_of_steps):\n",
        "  image_batch,label_batch = data.next_batch()\n",
        "  #This will update the batch size after every steps\n",
        "  with tf.GradientTape() as tape:#for monitoring every change to tensors\n",
        "    #logits1 = tf.matmul(image_batch,w1)+b1# image_batch.shape = (128 x 784), w1.shape= (784x128), \n",
        "    # image_batch x w1 = logits1, logits1 = (128x128)\n",
        "    hidden1 = tf.nn.relu(tf.matmul(image_batch,w1)+b1)\n",
        "    hidden2 = tf.nn.relu(tf.matmul(hidden1,w2)+b2)\n",
        "    hidden3 = tf.nn.relu(tf.matmul(hidden2,w3)+b3)\n",
        "    hidden4 = tf.nn.relu(tf.matmul(hidden3,w4)+b4)\n",
        "    hidden5 = tf.nn.relu(tf.matmul(hidden4,w5)+b5)\n",
        "    logits = tf.matmul(hidden5,w6)+b6\n",
        "    loss = tf.reduce_mean(tf.nn.sparse_softmax_cross_entropy_with_logits(logits=logits, labels=label_batch))\n",
        "    loss_list.append(loss)\n",
        "  grads = tape.gradient(loss, [w6,b6,w5,b5,w4,b4,w3,b3,w2,b2,w1,b1])\n",
        "  w6.assign_sub(learning_rate1*grads[0])\n",
        "  b6.assign_sub(learning_rate1*grads[1])\n",
        "  w5.assign_sub(learning_rate1*grads[2])\n",
        "  b5.assign_sub(learning_rate1*grads[3])  \n",
        "  w4.assign_sub(learning_rate1*grads[4])\n",
        "  b4.assign_sub(learning_rate1*grads[5])\n",
        "  w3.assign_sub(learning_rate1*grads[6])\n",
        "  b3.assign_sub(learning_rate1*grads[7])\n",
        "  w2.assign_sub(learning_rate1*grads[8])\n",
        "  b2.assign_sub(learning_rate1*grads[9])\n",
        "  w1.assign_sub(learning_rate1*grads[10])\n",
        "  b1.assign_sub(learning_rate1*grads[11])\n",
        "  step_list.append(step)\n",
        "  if not step%100:# updating after 100 steps only\n",
        "    preds = tf.argmax(logits,axis = 1, output_type = tf.int32)#selecting max value's index\n",
        "    acc   = (tf.reduce_mean(tf.cast(tf.equal(preds, label_batch),tf.float32)))*100# comparing predicted value and actual value\n",
        "    #returning a binary output. Further checking number of correct classification and calculating accuracy.\n",
        "    print(\"Loss: {}, Accuracy on Training Data: {}\".format(loss,acc))\n",
        "\n",
        "print('- '*40)\n",
        "\n",
        "test_prediction1 = tf.nn.relu(tf.matmul(data.test_data,w1)+b1)\n",
        "test_prediction2 = tf.nn.relu(tf.matmul(test_prediction1,w2)+b2)\n",
        "test_prediction3 = tf.nn.relu(tf.matmul(test_prediction2,w3)+b3)\n",
        "test_prediction4 = tf.nn.relu(tf.matmul(test_prediction3,w4)+b4)\n",
        "test_prediction5 = tf.nn.relu(tf.matmul(test_prediction4,w5)+b5)\n",
        "test_predictions = tf.argmax(tf.matmul(test_prediction5,w6)+b6, axis = 1, output_type= tf.int32)\n",
        "acc = (tf.reduce_mean(tf.cast(tf.equal(test_predictions, data.test_labels),tf.float32)))*100\n",
        "print('Accuracy on Testing Data: {}'.format(acc))"
      ],
      "execution_count": null,
      "outputs": [
        {
          "output_type": "stream",
          "text": [
            "Shape of weight matrix of hidden layer \"w1\": (784, 1024)\n",
            "Shape of bias matrix of hidden layer \"b1\"  : (1024,)\n",
            "Shape of weight matrix of output layer \"w2\": (1024, 512)\n",
            "Shape of bias matrix of output layer \"b2\"  : (512,)\n",
            "Shape of weight matrix of output layer \"w3\": (512, 256)\n",
            "Shape of bias matrix of output layer \"b3\"  : (256,)\n",
            "Shape of weight matrix of output layer \"w3\": (256, 128)\n",
            "Shape of bias matrix of output layer \"b3\"  : (128,)\n",
            "Shape of weight matrix of output layer \"w3\": (128, 64)\n",
            "Shape of bias matrix of output layer \"b3\"  : (64,)\n",
            "Shape of weight matrix of output layer \"w3\": (64, 10)\n",
            "Shape of bias matrix of output layer \"b3\"  : (10,)\n",
            "- - - - - - - - - - - - - - - - - - - - - - - - - - - - - - - - - - - - - - - - \n",
            "Loss: 2.3202431201934814, Accuracy on Training Data: 7.8125\n",
            "Loss: 0.601538896560669, Accuracy on Training Data: 80.46875\n",
            "Loss: 0.29421567916870117, Accuracy on Training Data: 90.625\n",
            "Loss: 0.33781489729881287, Accuracy on Training Data: 88.28125\n",
            "Loss: 0.24980759620666504, Accuracy on Training Data: 90.625\n",
            "Starting new epoch...\n",
            "Loss: 0.12975481152534485, Accuracy on Training Data: 97.65625\n",
            "Loss: 0.2354958951473236, Accuracy on Training Data: 92.96875\n",
            "Loss: 0.1476871818304062, Accuracy on Training Data: 96.09375\n",
            "Loss: 0.08699478209018707, Accuracy on Training Data: 97.65625\n",
            "Starting new epoch...\n",
            "Loss: 0.07438544183969498, Accuracy on Training Data: 98.4375\n",
            "Loss: 0.07310858368873596, Accuracy on Training Data: 98.4375\n",
            "Loss: 0.11838329583406448, Accuracy on Training Data: 95.3125\n",
            "Loss: 0.10560493171215057, Accuracy on Training Data: 96.875\n",
            "Loss: 0.0671260729432106, Accuracy on Training Data: 97.65625\n",
            "Starting new epoch...\n",
            "Loss: 0.07842553406953812, Accuracy on Training Data: 96.875\n",
            "Loss: 0.06140280142426491, Accuracy on Training Data: 98.4375\n",
            "Loss: 0.06548728048801422, Accuracy on Training Data: 97.65625\n",
            "Loss: 0.05186770111322403, Accuracy on Training Data: 98.4375\n",
            "Loss: 0.026277530938386917, Accuracy on Training Data: 99.21875\n",
            "Starting new epoch...\n",
            "Loss: 0.04288220405578613, Accuracy on Training Data: 98.4375\n",
            "- - - - - - - - - - - - - - - - - - - - - - - - - - - - - - - - - - - - - - - - \n",
            "Accuracy on Testing Data: 97.43000030517578\n"
          ],
          "name": "stdout"
        }
      ]
    },
    {
      "cell_type": "code",
      "metadata": {
        "id": "jL4Kfomd8y9f",
        "colab_type": "code",
        "colab": {
          "base_uri": "https://localhost:8080/",
          "height": 297
        },
        "outputId": "5fad5d14-dc40-4c99-df3c-cf481087d0dd"
      },
      "source": [
        "plt.figure()\n",
        "plt.plot(step_list,loss_list)\n",
        "plt.xlabel('Training Steps')\n",
        "plt.ylabel('Loss')"
      ],
      "execution_count": null,
      "outputs": [
        {
          "output_type": "execute_result",
          "data": {
            "text/plain": [
              "Text(0, 0.5, 'Loss')"
            ]
          },
          "metadata": {
            "tags": []
          },
          "execution_count": 34
        },
        {
          "output_type": "display_data",
          "data": {
            "image/png": "[encoded data removed]",
            "text/plain": [
              "<Figure size 432x288 with 1 Axes>"
            ]
          },
          "metadata": {
            "tags": [],
            "needs_background": "light"
          }
        }
      ]
    },
    {
      "cell_type": "markdown",
      "metadata": {
        "id": "Z9UTpsEsbor7",
        "colab_type": "text"
      },
      "source": [
        "Model 8:- Changing hidden Layer Activation Function to Softmax\n",
        "________________________________________________________________________________\n",
        "* No. of Hidden Layers      = 1\n",
        "* Number of Units in Layers = 128\n",
        "* Learinng Rate             = 0.1\n",
        "* Initialization of Bias    = between -0.1 to 0.1\n",
        "* Initialization of weights = between -0.1 to 0.1\n",
        "* Hidden Layer Act. Func.   = softmax(changed)\n",
        "* Output Layer Act. Func.   = softmax with cross entropy loss function\n",
        "* Input Batch Size          = 128\n",
        "* Number of Steps           = 2000\n",
        "* Standrdization of Input   = True(data/255)"
      ]
    },
    {
      "cell_type": "code",
      "metadata": {
        "id": "MeNmDITZb5hJ",
        "colab_type": "code",
        "colab": {
          "base_uri": "https://localhost:8080/",
          "height": 590
        },
        "outputId": "a9f6e738-3a43-4257-b998-47b60012a454"
      },
      "source": [
        "num_of_steps = 2000\n",
        "learning_rate1 = 0.1\n",
        "number_of_units_in_layer1 = 128\n",
        "\n",
        "w1 = tf.Variable(tf.random.uniform([number_of_dimensions,number_of_units_in_layer1],minval = -0.1, maxval=0.1,dtype=tf.dtypes.float32))\n",
        "b1 = tf.Variable(tf.random.uniform([number_of_units_in_layer1],minval = -0.1, maxval=0.1,dtype=tf.dtypes.float32))\n",
        "\n",
        "w2 = tf.Variable(tf.random.uniform([number_of_units_in_layer1,number_of_labels],minval = -0.1, maxval=0.1,dtype=tf.dtypes.float32))\n",
        "b2 = tf.Variable(tf.random.uniform([number_of_labels],minval = -0.1, maxval=0.1,dtype=tf.dtypes.float32))\n",
        "\n",
        "print('Shape of weight matrix of hidden layer \"w1\": ' + str(w1.shape))\n",
        "print('Shape of bias matrix of hidden layer \"b1\"  : ' + str(b1.shape))\n",
        "\n",
        "print('Shape of weight matrix of output layer \"w2\": ' + str(w2.shape))\n",
        "print('Shape of bias matrix of output layer \"b2\"  : ' + str(b2.shape))\n",
        "print('- '*40)\n",
        "\n",
        "for step in range(num_of_steps):\n",
        "  image_batch,label_batch = data.next_batch()\n",
        "  #This will update the batch size after every steps\n",
        "  with tf.GradientTape() as tape:#for monitoring every change to tensors\n",
        "    #logits1 = tf.matmul(image_batch,w1)+b1# image_batch.shape = (128 x 784), w1.shape= (784x128), \n",
        "    # image_batch x w1 = logits1, logits1 = (128x128)\n",
        "    hidden1 = tf.nn.softmax(tf.matmul(image_batch,w1)+b1)\n",
        "    logits = tf.matmul(hidden1,w2)+b2\n",
        "    loss = tf.reduce_mean(tf.nn.sparse_softmax_cross_entropy_with_logits(logits=logits, labels=label_batch))\n",
        "  grads = tape.gradient(loss, [w2,b2,w1,b1])\n",
        "  w2.assign_sub(learning_rate1*grads[0])#updating weights\n",
        "  b2.assign_sub(learning_rate1*grads[1])#updating \n",
        "  w1.assign_sub(learning_rate1*grads[2])\n",
        "  b1.assign_sub(learning_rate1*grads[3])\n",
        "\n",
        "  if not step%100:# updating after 100 steps only\n",
        "    preds = tf.argmax(logits,axis = 1, output_type = tf.int32)#selecting max value's index\n",
        "    acc   = (tf.reduce_mean(tf.cast(tf.equal(preds, label_batch),tf.float32)))*100# comparing predicted value and actual value\n",
        "    #returning a binary output. Further checking number of correct classification and calculating accuracy.\n",
        "    print(\"Loss: {}, Accuracy on Training Data: {}\".format(loss,acc))\n",
        "\n",
        "print('- '*40)\n",
        "\n",
        "test_prediction1 = tf.nn.softmax(tf.matmul(data.test_data,w1)+b1)\n",
        "test_predictions = tf.argmax(tf.matmul(test_prediction1,w2)+b2, axis = 1, output_type= tf.int32)\n",
        "acc = (tf.reduce_mean(tf.cast(tf.equal(test_predictions, data.test_labels),tf.float32)))*100\n",
        "print('Accuracy on Testing Data: {}'.format(acc))"
      ],
      "execution_count": null,
      "outputs": [
        {
          "output_type": "stream",
          "text": [
            "Shape of weight matrix of hidden layer \"w1\": (784, 128)\n",
            "Shape of bias matrix of hidden layer \"b1\"  : (128,)\n",
            "Shape of weight matrix of output layer \"w2\": (128, 10)\n",
            "Shape of bias matrix of output layer \"b2\"  : (10,)\n",
            "- - - - - - - - - - - - - - - - - - - - - - - - - - - - - - - - - - - - - - - - \n",
            "Loss: 2.3039612770080566, Accuracy on Training Data: 8.59375\n",
            "Loss: 2.2966861724853516, Accuracy on Training Data: 14.84375\n",
            "Loss: 2.3039791584014893, Accuracy on Training Data: 11.71875\n",
            "Starting new epoch...\n",
            "Loss: 2.287895679473877, Accuracy on Training Data: 17.1875\n",
            "Loss: 2.3016252517700195, Accuracy on Training Data: 9.375\n",
            "Loss: 2.309373378753662, Accuracy on Training Data: 8.59375\n",
            "Loss: 2.3023898601531982, Accuracy on Training Data: 10.15625\n",
            "Loss: 2.2941818237304688, Accuracy on Training Data: 9.375\n",
            "Starting new epoch...\n",
            "Loss: 2.289642810821533, Accuracy on Training Data: 12.5\n",
            "Loss: 2.244515895843506, Accuracy on Training Data: 28.125\n",
            "Loss: 2.244831085205078, Accuracy on Training Data: 17.1875\n",
            "Loss: 2.1919803619384766, Accuracy on Training Data: 21.09375\n",
            "Loss: 2.1060259342193604, Accuracy on Training Data: 28.125\n",
            "Starting new epoch...\n",
            "Loss: 2.031289577484131, Accuracy on Training Data: 36.71875\n",
            "Loss: 1.9375476837158203, Accuracy on Training Data: 35.9375\n",
            "Loss: 1.830025553703308, Accuracy on Training Data: 37.5\n",
            "Loss: 1.7335238456726074, Accuracy on Training Data: 38.28125\n",
            "Starting new epoch...\n",
            "Loss: 1.6780592203140259, Accuracy on Training Data: 39.0625\n",
            "Loss: 1.580836296081543, Accuracy on Training Data: 45.3125\n",
            "Loss: 1.620718002319336, Accuracy on Training Data: 42.96875\n",
            "- - - - - - - - - - - - - - - - - - - - - - - - - - - - - - - - - - - - - - - - \n",
            "Accuracy on Testing Data: 40.869998931884766\n"
          ],
          "name": "stdout"
        }
      ]
    },
    {
      "cell_type": "markdown",
      "metadata": {
        "id": "zcMFk85LcVQV",
        "colab_type": "text"
      },
      "source": [
        "Model 9:- Changing Activation function of Hidden Layer to Sigmoid\n",
        "________________________________________________________________________________\n",
        "* No. of Hidden Layers      = 1\n",
        "* Number of Units in Layers = 128\n",
        "* Learinng Rate             = 0.1\n",
        "* Initialization of Bias    = between -0.1 to 0.1\n",
        "* Initialization of weights = between -0.1 to 0.1\n",
        "* Hidden Layer Act. Func.   = sigmoid(changed)\n",
        "* Output Layer Act. Func.   = softmax with cross entropy loss function\n",
        "* Input Batch Size          = 128\n",
        "* Number of Steps           = 2000\n",
        "* Standrdization of Input   = True(data/255)"
      ]
    },
    {
      "cell_type": "code",
      "metadata": {
        "id": "7pASK--Lcau9",
        "colab_type": "code",
        "colab": {
          "base_uri": "https://localhost:8080/",
          "height": 608
        },
        "outputId": "7e0fc401-b26a-4921-ce0a-d503b14bd6e8"
      },
      "source": [
        "num_of_steps = 2000\n",
        "learning_rate1 = 0.1\n",
        "number_of_units_in_layer1 = 128\n",
        "\n",
        "w1 = tf.Variable(tf.random.uniform([number_of_dimensions,number_of_units_in_layer1],minval = -0.1, maxval=0.1,dtype=tf.dtypes.float32))\n",
        "b1 = tf.Variable(tf.random.uniform([number_of_units_in_layer1],minval = -0.1, maxval=0.1,dtype=tf.dtypes.float32))\n",
        "\n",
        "w2 = tf.Variable(tf.random.uniform([number_of_units_in_layer1,number_of_labels],minval = -0.1, maxval=0.1,dtype=tf.dtypes.float32))\n",
        "b2 = tf.Variable(tf.random.uniform([number_of_labels],minval = -0.1, maxval=0.1,dtype=tf.dtypes.float32))\n",
        "\n",
        "print('Shape of weight matrix of hidden layer \"w1\": ' + str(w1.shape))\n",
        "print('Shape of bias matrix of hidden layer \"b1\"  : ' + str(b1.shape))\n",
        "\n",
        "print('Shape of weight matrix of output layer \"w2\": ' + str(w2.shape))\n",
        "print('Shape of bias matrix of output layer \"b2\"  : ' + str(b2.shape))\n",
        "print('- '*40)\n",
        "\n",
        "for step in range(num_of_steps):\n",
        "  image_batch,label_batch = data.next_batch()\n",
        "  #This will update the batch size after every steps\n",
        "  with tf.GradientTape() as tape:#for monitoring every change to tensors\n",
        "    #logits1 = tf.matmul(image_batch,w1)+b1# image_batch.shape = (128 x 784), w1.shape= (784x128), \n",
        "    # image_batch x w1 = logits1, logits1 = (128x128)\n",
        "    hidden1 = tf.nn.sigmoid(tf.matmul(image_batch,w1)+b1)\n",
        "    logits = tf.matmul(hidden1,w2)+b2\n",
        "    loss = tf.reduce_mean(tf.nn.sparse_softmax_cross_entropy_with_logits(logits=logits, labels=label_batch))\n",
        "  grads = tape.gradient(loss, [w2,b2,w1,b1])\n",
        "  w2.assign_sub(learning_rate1*grads[0])#updating weights\n",
        "  b2.assign_sub(learning_rate1*grads[1])#updating \n",
        "  w1.assign_sub(learning_rate1*grads[2])\n",
        "  b1.assign_sub(learning_rate1*grads[3])\n",
        "\n",
        "  if not step%100:# updating after 100 steps only\n",
        "    preds = tf.argmax(logits,axis = 1, output_type = tf.int32)#selecting max value's index\n",
        "    acc   = (tf.reduce_mean(tf.cast(tf.equal(preds, label_batch),tf.float32)))*100# comparing predicted value and actual value\n",
        "    #returning a binary output. Further checking number of correct classification and calculating accuracy.\n",
        "    print(\"Loss: {}, Accuracy on Training Data: {}\".format(loss,acc))\n",
        "\n",
        "print('- '*40)\n",
        "\n",
        "test_prediction1 = tf.nn.softmax(tf.matmul(data.test_data,w1)+b1)\n",
        "test_predictions = tf.argmax(tf.matmul(test_prediction1,w2)+b2, axis = 1, output_type= tf.int32)\n",
        "acc = (tf.reduce_mean(tf.cast(tf.equal(test_predictions, data.test_labels),tf.float32)))*100\n",
        "print('Accuracy on Testing Data: {}'.format(acc))"
      ],
      "execution_count": null,
      "outputs": [
        {
          "output_type": "stream",
          "text": [
            "Shape of weight matrix of hidden layer \"w1\": (784, 128)\n",
            "Shape of bias matrix of hidden layer \"b1\"  : (128,)\n",
            "Shape of weight matrix of output layer \"w2\": (128, 10)\n",
            "Shape of bias matrix of output layer \"b2\"  : (10,)\n",
            "- - - - - - - - - - - - - - - - - - - - - - - - - - - - - - - - - - - - - - - - \n",
            "Loss: 2.354416847229004, Accuracy on Training Data: 9.375\n",
            "Starting new epoch...\n",
            "Loss: 1.7839257717132568, Accuracy on Training Data: 50.78125\n",
            "Loss: 1.1497218608856201, Accuracy on Training Data: 70.3125\n",
            "Loss: 0.8251155018806458, Accuracy on Training Data: 80.46875\n",
            "Loss: 0.5479453802108765, Accuracy on Training Data: 86.71875\n",
            "Loss: 0.6391845345497131, Accuracy on Training Data: 82.03125\n",
            "Starting new epoch...\n",
            "Loss: 0.49172544479370117, Accuracy on Training Data: 87.5\n",
            "Loss: 0.4802960455417633, Accuracy on Training Data: 89.0625\n",
            "Loss: 0.4349943995475769, Accuracy on Training Data: 89.84375\n",
            "Loss: 0.4278513789176941, Accuracy on Training Data: 88.28125\n",
            "Starting new epoch...\n",
            "Loss: 0.4632716178894043, Accuracy on Training Data: 86.71875\n",
            "Loss: 0.3854481279850006, Accuracy on Training Data: 90.625\n",
            "Loss: 0.4545344114303589, Accuracy on Training Data: 85.9375\n",
            "Loss: 0.4039997160434723, Accuracy on Training Data: 87.5\n",
            "Loss: 0.4528854191303253, Accuracy on Training Data: 85.9375\n",
            "Starting new epoch...\n",
            "Loss: 0.3082813620567322, Accuracy on Training Data: 90.625\n",
            "Loss: 0.31054458022117615, Accuracy on Training Data: 92.96875\n",
            "Loss: 0.4072955250740051, Accuracy on Training Data: 89.0625\n",
            "Loss: 0.293095201253891, Accuracy on Training Data: 92.1875\n",
            "Loss: 0.3006416857242584, Accuracy on Training Data: 90.625\n",
            "Starting new epoch...\n",
            "- - - - - - - - - - - - - - - - - - - - - - - - - - - - - - - - - - - - - - - - \n",
            "Accuracy on Testing Data: 77.91000366210938\n"
          ],
          "name": "stdout"
        }
      ]
    },
    {
      "cell_type": "markdown",
      "metadata": {
        "id": "7Q1UhWfjc2LR",
        "colab_type": "text"
      },
      "source": [
        "Model 10:- Changing Activation function of Hidden Layer to tanh\n",
        "________________________________________________________________________________\n",
        "* No. of Hidden Layers      = 1\n",
        "* Number of Units in Layers = 128\n",
        "* Learinng Rate             = 0.1\n",
        "* Initialization of Bias    = between -0.1 to 0.1\n",
        "* Initialization of weights = between -0.1 to 0.1\n",
        "* Hidden Layer Act. Func.   = tanh(changed)\n",
        "* Output Layer Act. Func.   = softmax with cross entropy loss function\n",
        "* Input Batch Size          = 128\n",
        "* Number of Steps           = 2000\n",
        "* Standrdization of Input   = True(data/255)"
      ]
    },
    {
      "cell_type": "code",
      "metadata": {
        "id": "fGSFohkych5C",
        "colab_type": "code",
        "colab": {
          "base_uri": "https://localhost:8080/",
          "height": 590
        },
        "outputId": "cd079d52-6f08-4bc1-8b17-864f10a6f61a"
      },
      "source": [
        "num_of_steps = 2000\n",
        "learning_rate1 = 0.1\n",
        "number_of_units_in_layer1 = 20\n",
        "\n",
        "w1 = tf.Variable(tf.random.uniform([number_of_dimensions,number_of_units_in_layer1],minval = -0.1, maxval=0.1,dtype=tf.dtypes.float32))\n",
        "b1 = tf.Variable(tf.random.uniform([number_of_units_in_layer1],minval = -0.1, maxval=0.1,dtype=tf.dtypes.float32))\n",
        "\n",
        "w2 = tf.Variable(tf.random.uniform([number_of_units_in_layer1,number_of_labels],minval = -0.1, maxval=0.1,dtype=tf.dtypes.float32))\n",
        "b2 = tf.Variable(tf.random.uniform([number_of_labels],minval = -0.1, maxval=0.1,dtype=tf.dtypes.float32))\n",
        "\n",
        "print('Shape of weight matrix of hidden layer \"w1\": ' + str(w1.shape))\n",
        "print('Shape of bias matrix of hidden layer \"b1\"  : ' + str(b1.shape))\n",
        "\n",
        "print('Shape of weight matrix of output layer \"w2\": ' + str(w2.shape))\n",
        "print('Shape of bias matrix of output layer \"b2\"  : ' + str(b2.shape))\n",
        "print('- '*40)\n",
        "\n",
        "for step in range(num_of_steps):\n",
        "  image_batch,label_batch = data.next_batch()\n",
        "  #This will update the batch size after every steps\n",
        "  with tf.GradientTape() as tape:#for monitoring every change to tensors\n",
        "    #logits1 = tf.matmul(image_batch,w1)+b1# image_batch.shape = (128 x 784), w1.shape= (784x128), \n",
        "    # image_batch x w1 = logits1, logits1 = (128x128)\n",
        "    hidden1 = tf.nn.tanh(tf.matmul(image_batch,w1)+b1)\n",
        "    logits = tf.matmul(hidden1,w2)+b2\n",
        "    loss = tf.reduce_mean(tf.nn.sparse_softmax_cross_entropy_with_logits(logits=logits, labels=label_batch))\n",
        "  grads = tape.gradient(loss, [w2,b2,w1,b1])\n",
        "  w2.assign_sub(learning_rate1*grads[0])#updating weights\n",
        "  b2.assign_sub(learning_rate1*grads[1])#updating \n",
        "  w1.assign_sub(learning_rate1*grads[2])\n",
        "  b1.assign_sub(learning_rate1*grads[3])\n",
        "\n",
        "  if not step%100:# updating after 100 steps only\n",
        "    preds = tf.argmax(logits,axis = 1, output_type = tf.int32)#selecting max value's index\n",
        "    acc   = (tf.reduce_mean(tf.cast(tf.equal(preds, label_batch),tf.float32)))*100# comparing predicted value and actual value\n",
        "    #returning a binary output. Further checking number of correct classification and calculating accuracy.\n",
        "    print(\"Loss: {}, Accuracy on Training Data: {}\".format(loss,acc))\n",
        "\n",
        "print('- '*40)\n",
        "\n",
        "test_prediction1 = tf.nn.tanh(tf.matmul(data.test_data,w1)+b1)\n",
        "test_predictions = tf.argmax(tf.matmul(test_prediction1,w2)+b2, axis = 1, output_type= tf.int32)\n",
        "acc = (tf.reduce_mean(tf.cast(tf.equal(test_predictions, data.test_labels),tf.float32)))*100\n",
        "print('Accuracy on Testing Data: {}'.format(acc))"
      ],
      "execution_count": null,
      "outputs": [
        {
          "output_type": "stream",
          "text": [
            "Shape of weight matrix of hidden layer \"w1\": (784, 20)\n",
            "Shape of bias matrix of hidden layer \"b1\"  : (20,)\n",
            "Shape of weight matrix of output layer \"w2\": (20, 10)\n",
            "Shape of bias matrix of output layer \"b2\"  : (10,)\n",
            "- - - - - - - - - - - - - - - - - - - - - - - - - - - - - - - - - - - - - - - - \n",
            "Loss: 2.32167911529541, Accuracy on Training Data: 10.15625\n",
            "Loss: 0.9215009212493896, Accuracy on Training Data: 78.125\n",
            "Loss: 0.6263561248779297, Accuracy on Training Data: 86.71875\n",
            "Loss: 0.5454453825950623, Accuracy on Training Data: 88.28125\n",
            "Loss: 0.3044755756855011, Accuracy on Training Data: 91.40625\n",
            "Starting new epoch...\n",
            "Loss: 0.36202460527420044, Accuracy on Training Data: 91.40625\n",
            "Loss: 0.3805326223373413, Accuracy on Training Data: 88.28125\n",
            "Loss: 0.3812882900238037, Accuracy on Training Data: 85.15625\n",
            "Loss: 0.3914654850959778, Accuracy on Training Data: 86.71875\n",
            "Loss: 0.3946240544319153, Accuracy on Training Data: 92.1875\n",
            "Starting new epoch...\n",
            "Loss: 0.26460808515548706, Accuracy on Training Data: 92.1875\n",
            "Loss: 0.36693501472473145, Accuracy on Training Data: 88.28125\n",
            "Loss: 0.2858119606971741, Accuracy on Training Data: 87.5\n",
            "Loss: 0.2230374664068222, Accuracy on Training Data: 94.53125\n",
            "Starting new epoch...\n",
            "Loss: 0.3337847590446472, Accuracy on Training Data: 90.625\n",
            "Loss: 0.263228178024292, Accuracy on Training Data: 92.96875\n",
            "Loss: 0.26986607909202576, Accuracy on Training Data: 92.1875\n",
            "Loss: 0.29068005084991455, Accuracy on Training Data: 89.0625\n",
            "Loss: 0.2666183412075043, Accuracy on Training Data: 90.625\n",
            "Starting new epoch...\n",
            "Loss: 0.2438201755285263, Accuracy on Training Data: 93.75\n",
            "- - - - - - - - - - - - - - - - - - - - - - - - - - - - - - - - - - - - - - - - \n",
            "Accuracy on Testing Data: 93.20999908447266\n"
          ],
          "name": "stdout"
        }
      ]
    },
    {
      "cell_type": "markdown",
      "metadata": {
        "id": "TBpVJp5oXc30",
        "colab_type": "text"
      },
      "source": [
        "Model 11:- Changing Activation function of Hidden Layer to leakyRelu\n",
        "________________________________________________________________________________\n",
        "* No. of Hidden Layers      = 1\n",
        "* Number of Units in Layers = 128\n",
        "* Learinng Rate             = 0.1\n",
        "* Initialization of Bias    = between -0.1 to 0.1\n",
        "* Initialization of weights = between -0.1 to 0.1\n",
        "* Hidden Layer Act. Func.   = LeakyRelu(changed)\n",
        "* Output Layer Act. Func.   = softmax with cross entropy loss function\n",
        "* Input Batch Size          = 128\n",
        "* Number of Steps           = 2000\n",
        "* Standrdization of Input   = True(data/255)"
      ]
    },
    {
      "cell_type": "code",
      "metadata": {
        "id": "qelGgMKGXmQD",
        "colab_type": "code",
        "colab": {
          "base_uri": "https://localhost:8080/",
          "height": 590
        },
        "outputId": "a0e69a07-97e0-4829-f636-f480d5964f98"
      },
      "source": [
        "num_of_steps = 2000\n",
        "learning_rate1 = 0.1\n",
        "number_of_units_in_layer1 = 128\n",
        "\n",
        "w1 = tf.Variable(tf.random.uniform([number_of_dimensions,number_of_units_in_layer1],minval = -0.1, maxval=0.1,dtype=tf.dtypes.float32))\n",
        "b1 = tf.Variable(tf.random.uniform([number_of_units_in_layer1],minval = -0.1, maxval=0.1,dtype=tf.dtypes.float32))\n",
        "\n",
        "w2 = tf.Variable(tf.random.uniform([number_of_units_in_layer1,number_of_labels],minval = -0.1, maxval=0.1,dtype=tf.dtypes.float32))\n",
        "b2 = tf.Variable(tf.random.uniform([number_of_labels],minval = -0.1, maxval=0.1,dtype=tf.dtypes.float32))\n",
        "\n",
        "print('Shape of weight matrix of hidden layer \"w1\": ' + str(w1.shape))\n",
        "print('Shape of bias matrix of hidden layer \"b1\"  : ' + str(b1.shape))\n",
        "\n",
        "print('Shape of weight matrix of output layer \"w2\": ' + str(w2.shape))\n",
        "print('Shape of bias matrix of output layer \"b2\"  : ' + str(b2.shape))\n",
        "print('- '*40)\n",
        "\n",
        "for step in range(num_of_steps):\n",
        "  image_batch,label_batch = data.next_batch()\n",
        "  #This will update the batch size after every steps\n",
        "  with tf.GradientTape() as tape:#for monitoring every change to tensors\n",
        "    #logits1 = tf.matmul(image_batch,w1)+b1# image_batch.shape = (128 x 784), w1.shape= (784x128), \n",
        "    # image_batch x w1 = logits1, logits1 = (128x128)\n",
        "    hidden1 = tf.nn.leaky_relu(tf.matmul(image_batch,w1)+b1)\n",
        "    logits = tf.matmul(hidden1,w2)+b2\n",
        "    loss = tf.reduce_mean(tf.nn.sparse_softmax_cross_entropy_with_logits(logits=logits, labels=label_batch))\n",
        "  grads = tape.gradient(loss, [w2,b2,w1,b1])\n",
        "  w2.assign_sub(learning_rate1*grads[0])#updating weights\n",
        "  b2.assign_sub(learning_rate1*grads[1])#updating \n",
        "  w1.assign_sub(learning_rate1*grads[2])\n",
        "  b1.assign_sub(learning_rate1*grads[3])\n",
        "\n",
        "  if not step%100:# updating after 100 steps only\n",
        "    preds = tf.argmax(logits,axis = 1, output_type = tf.int32)#selecting max value's index\n",
        "    acc   = (tf.reduce_mean(tf.cast(tf.equal(preds, label_batch),tf.float32)))*100# comparing predicted value and actual value\n",
        "    #returning a binary output. Further checking number of correct classification and calculating accuracy.\n",
        "    print(\"Loss: {}, Accuracy on Training Data: {}\".format(loss,acc))\n",
        "\n",
        "print('- '*40)\n",
        "\n",
        "test_prediction1 = tf.nn.leaky_relu(tf.matmul(data.test_data,w1)+b1)\n",
        "test_predictions = tf.argmax(tf.matmul(test_prediction1,w2)+b2, axis = 1, output_type= tf.int32)\n",
        "acc = (tf.reduce_mean(tf.cast(tf.equal(test_predictions, data.test_labels),tf.float32)))*100\n",
        "print('Accuracy on Testing Data: {}'.format(acc))"
      ],
      "execution_count": null,
      "outputs": [
        {
          "output_type": "stream",
          "text": [
            "Shape of weight matrix of hidden layer \"w1\": (784, 128)\n",
            "Shape of bias matrix of hidden layer \"b1\"  : (128,)\n",
            "Shape of weight matrix of output layer \"w2\": (128, 10)\n",
            "Shape of bias matrix of output layer \"b2\"  : (10,)\n",
            "- - - - - - - - - - - - - - - - - - - - - - - - - - - - - - - - - - - - - - - - \n",
            "Loss: 2.323645830154419, Accuracy on Training Data: 5.46875\n",
            "Loss: 0.5298281908035278, Accuracy on Training Data: 84.375\n",
            "Loss: 0.37220901250839233, Accuracy on Training Data: 90.625\n",
            "Starting new epoch...\n",
            "Loss: 0.32327353954315186, Accuracy on Training Data: 91.40625\n",
            "Loss: 0.3234504461288452, Accuracy on Training Data: 91.40625\n",
            "Loss: 0.317824125289917, Accuracy on Training Data: 92.1875\n",
            "Loss: 0.32304924726486206, Accuracy on Training Data: 89.84375\n",
            "Starting new epoch...\n",
            "Loss: 0.3198602795600891, Accuracy on Training Data: 89.84375\n",
            "Loss: 0.2482410967350006, Accuracy on Training Data: 94.53125\n",
            "Loss: 0.20274068415164948, Accuracy on Training Data: 93.75\n",
            "Loss: 0.22325681149959564, Accuracy on Training Data: 91.40625\n",
            "Loss: 0.17679861187934875, Accuracy on Training Data: 95.3125\n",
            "Starting new epoch...\n",
            "Loss: 0.23019655048847198, Accuracy on Training Data: 93.75\n",
            "Loss: 0.2224731147289276, Accuracy on Training Data: 90.625\n",
            "Loss: 0.2713419795036316, Accuracy on Training Data: 92.1875\n",
            "Loss: 0.22036680579185486, Accuracy on Training Data: 94.53125\n",
            "Loss: 0.24716690182685852, Accuracy on Training Data: 92.1875\n",
            "Starting new epoch...\n",
            "Loss: 0.16886919736862183, Accuracy on Training Data: 95.3125\n",
            "Loss: 0.3168661594390869, Accuracy on Training Data: 91.40625\n",
            "Loss: 0.17426356673240662, Accuracy on Training Data: 94.53125\n",
            "- - - - - - - - - - - - - - - - - - - - - - - - - - - - - - - - - - - - - - - - \n",
            "Accuracy on Testing Data: 94.05000305175781\n"
          ],
          "name": "stdout"
        }
      ]
    },
    {
      "cell_type": "markdown",
      "metadata": {
        "id": "w34Ng0qaeabT",
        "colab_type": "text"
      },
      "source": [
        "** Comparing Models**"
      ]
    },
    {
      "cell_type": "markdown",
      "metadata": {
        "id": "fQzHy_HYeiSz",
        "colab_type": "text"
      },
      "source": [
        "Comparision1 : Changing Number of Units in Hidden Layer\n",
        "\n",
        "Model | Units | Acc_on_train |Acc on Test         \n",
        "--- | --- | --- | ---\n",
        "1 | 128 | 97.65 | 94.81\n",
        "2 | 512 | 96.09 |95.68\n",
        "3 | 1024 | 98.43 |95.94\n",
        "\n",
        "Most of the time it is seen that increasing the the number of units in hidden layer increases the accuracy. This results in slower learinig. In our case the accuracy dropped in case of model 2's training. This might be the result of shuffling of input data. Although, overall the acuraccy on testing data increased.\n",
        "\n",
        "Comparision2: \n",
        "\n",
        "Model | Learning Rate | Acc_on_train |Acc on Test         \n",
        "--- | --- | --- | ---\n",
        "1 | 0.1 | 97.65 | 94.81\n",
        "4 | 0.05 | 98.43 |95.94\n",
        "\n",
        "Decreasing the learning rate results in slower learning but may give better results. This may be due to the fact that, with higher learning rate, the model might miss the global minima while reducing the loss.\n",
        "\n",
        "Comparision3: Changing the Parameter Initialization:\n",
        "\n",
        "Model | parameter | Acc_on_train |Acc on Test         \n",
        "--- | --- | --- | ---\n",
        "1 | w = b = -0.1 to 0.1 | 97.65 | 94.81\n",
        "5 | b = 0, w = -0.1 to 0.1| 95.31 |94.9\n",
        "6 | b = w = 0 | 11.71875 |11.35\n",
        "\n",
        "Initializing all the bias to 0 performs good as earlier.   \n",
        "Initializing weights to 0 leads to very poor performance.If you initialize all weights with zeros then every hidden unit will get zero independent of the input. So, when all the hidden neurons start with the zero weights, then all of them will follow the same gradient and for this reason \"it affects only the scale of the weight vector, not the direction\".\n",
        "\n",
        "Also, having zero ( or equal) weights to start with will prevent the network from learning. The errors backpropagated through the network is proportional to the value of the weights. If all the weights are the same, then the backpropagated errors will be the same, and consequently, all of the weights will be updated by the same amount. To avoid this symmetry problem, the initial weights to the network should be unequal.\n",
        "\n",
        "Comparision4: Adding additional hidden layer(Deep NN)\n",
        "\n",
        "Model | Hidden Layers | Acc_on_train |Acc on Test         \n",
        "--- | --- | --- | ---\n",
        "1 | 1- 128 Units | 97.65 | 94.81\n",
        "7 | 1- 512units,2- 256 | 97.65 |96.61\n",
        "\n",
        "Adding hidden layers improves the performance of the model. This reduces the case of Underfitting but sometimes leads to Underfitting problem. In some situations, problems like vanishing gradient, exploding gradient are also associated with more number of hidden layers.\n",
        "\n",
        "Comparision5: Model with different Activation functions\n",
        "\n",
        "Model | Func on Hidden Layer | Acc_on_train |Acc on Test         \n",
        "--- | --- | --- | ---\n",
        "1 | Relu | 97.65 | 94.81\n",
        "8 | Softmax | 42.18 |29.96\n",
        "9 | Sigmoid | 89.84 |87.30\n",
        "10 | tanh | 92.96 |81.88\n",
        "11 | leaky_relu| 94.53 |94.25\n",
        "\n",
        "Softmax in hidden layer keeps all nodes linearly dependent, this results in poor generalization. Thus we are able to see that model 8 has poor performance.\n",
        "\n",
        "Other Observations: It was observed that many times the results were not reproducible. This was the issue of shuffling of input data.\n",
        "Also, in some cases, testing accuracy was observed to be more than training accuracy. This may be purely accidental or may be a case of underfitting. To avoid this issue, fixed seed option should be adopted.\n",
        "\n",
        "**Working on Mnist Fashion Data**"
      ]
    },
    {
      "cell_type": "markdown",
      "metadata": {
        "id": "YcATfFbW1WGB",
        "colab_type": "text"
      },
      "source": [
        "**Step 1: Loading Data**"
      ]
    },
    {
      "cell_type": "code",
      "metadata": {
        "id": "kiylZH61c_hh",
        "colab_type": "code",
        "colab": {}
      },
      "source": [
        "mnist = tf.keras.datasets.fashion_mnist"
      ],
      "execution_count": null,
      "outputs": []
    },
    {
      "cell_type": "code",
      "metadata": {
        "id": "qKihb9iYya80",
        "colab_type": "code",
        "colab": {
          "base_uri": "https://localhost:8080/",
          "height": 165
        },
        "outputId": "a41fa362-ff3c-4c87-af9f-28a45b528549"
      },
      "source": [
        "(training_images, training_labels),(testing_images, testing_labels) = mnist.load_data()"
      ],
      "execution_count": null,
      "outputs": [
        {
          "output_type": "stream",
          "text": [
            "Downloading data from https://storage.googleapis.com/tensorflow/tf-keras-datasets/train-labels-idx1-ubyte.gz\n",
            "32768/29515 [=================================] - 0s 0us/step\n",
            "Downloading data from https://storage.googleapis.com/tensorflow/tf-keras-datasets/train-images-idx3-ubyte.gz\n",
            "26427392/26421880 [==============================] - 0s 0us/step\n",
            "Downloading data from https://storage.googleapis.com/tensorflow/tf-keras-datasets/t10k-labels-idx1-ubyte.gz\n",
            "8192/5148 [===============================================] - 0s 0us/step\n",
            "Downloading data from https://storage.googleapis.com/tensorflow/tf-keras-datasets/t10k-images-idx3-ubyte.gz\n",
            "4423680/4422102 [==============================] - 0s 0us/step\n"
          ],
          "name": "stdout"
        }
      ]
    },
    {
      "cell_type": "markdown",
      "metadata": {
        "id": "t4MIrZDz1jZ4",
        "colab_type": "text"
      },
      "source": [
        "**Step 2: Visualizing input data**"
      ]
    },
    {
      "cell_type": "code",
      "metadata": {
        "id": "NYT8o9O0yjvn",
        "colab_type": "code",
        "colab": {
          "base_uri": "https://localhost:8080/",
          "height": 283
        },
        "outputId": "399bdae1-08bf-4f61-ca90-ef6f91cfbafc"
      },
      "source": [
        "plt.imshow(training_images[0])"
      ],
      "execution_count": null,
      "outputs": [
        {
          "output_type": "execute_result",
          "data": {
            "text/plain": [
              "<matplotlib.image.AxesImage at 0x7f8240a1bac8>"
            ]
          },
          "metadata": {
            "tags": []
          },
          "execution_count": 46
        },
        {
          "output_type": "display_data",
          "data": {
            "image/png": "[encoded data removed]",
            "text/plain": [
              "<Figure size 432x288 with 1 Axes>"
            ]
          },
          "metadata": {
            "tags": [],
            "needs_background": "light"
          }
        }
      ]
    },
    {
      "cell_type": "code",
      "metadata": {
        "id": "f4EgKv-DyrrM",
        "colab_type": "code",
        "colab": {
          "base_uri": "https://localhost:8080/",
          "height": 476
        },
        "outputId": "f6ea0157-3161-4ed4-e7a0-c54ed5c8ac4b"
      },
      "source": [
        "plt.figure(figsize=(10,10))\n",
        "for i in range (20):\n",
        "  plt.subplot(5,5,i+1)\n",
        "  plt.xticks([])\n",
        "  plt.yticks([])\n",
        "  plt.grid(False)\n",
        "  plt.imshow(training_images[i],cmap = plt.cm.binary)\n",
        "  plt.xlabel([training_labels[i]])"
      ],
      "execution_count": null,
      "outputs": [
        {
          "output_type": "display_data",
          "data": {
            "image/png": "[encoded data removed]",
            "text/plain": [
              "<Figure size 720x720 with 20 Axes>"
            ]
          },
          "metadata": {
            "tags": []
          }
        }
      ]
    },
    {
      "cell_type": "code",
      "metadata": {
        "id": "GlTebqYXyv5c",
        "colab_type": "code",
        "colab": {}
      },
      "source": [
        "shape_of_train_data = training_images.shape\n",
        "shape_of_test_data  = testing_images.shape\n",
        "num_of_train_data   = training_images.shape[0]\n",
        "num_of_test_data    = testing_images.shape[0]\n",
        "shape_of_image_hor  = training_images.shape[1]\n",
        "shape_of_image_vert = training_images.shape[2]\n",
        "number_of_dimensions= shape_of_image_hor*shape_of_image_vert\n",
        "\n",
        "label_list =[]\n",
        "for label in training_labels:\n",
        "  if label not in label_list:\n",
        "    label_list.append(label)\n",
        "number_of_labels = len(label_list)"
      ],
      "execution_count": null,
      "outputs": []
    },
    {
      "cell_type": "code",
      "metadata": {
        "id": "JsfWu-Mvy2GX",
        "colab_type": "code",
        "colab": {
          "base_uri": "https://localhost:8080/",
          "height": 165
        },
        "outputId": "e61ae3eb-5543-402f-e175-13dff1c46c4b"
      },
      "source": [
        "print('shape of training_data: '+ str(shape_of_train_data))\n",
        "print('shape of testing_data : '+ str(shape_of_test_data))\n",
        "print('num of training data  : '+ str(num_of_train_data))\n",
        "print('num of testing data   : '+ str(num_of_test_data))\n",
        "print('shape of an image     : '+ str(shape_of_image_hor) + ' x ' + str(shape_of_image_vert) + ' pixels')\n",
        "print('Number of Dimensions  : '+ str(number_of_dimensions))\n",
        "print('labels                : '+ str(sorted(label_list)))\n",
        "print('Number of Labels      : '+ str(number_of_labels))"
      ],
      "execution_count": null,
      "outputs": [
        {
          "output_type": "stream",
          "text": [
            "shape of training_data: (60000, 28, 28)\n",
            "shape of testing_data : (10000, 28, 28)\n",
            "num of training data  : 60000\n",
            "num of testing data   : 10000\n",
            "shape of an image     : 28 x 28 pixels\n",
            "Number of Dimensions  : 784\n",
            "labels                : [0, 1, 2, 3, 4, 5, 6, 7, 8, 9]\n",
            "Number of Labels      : 10\n"
          ],
          "name": "stdout"
        }
      ]
    },
    {
      "cell_type": "markdown",
      "metadata": {
        "id": "JRArN3wX1sNY",
        "colab_type": "text"
      },
      "source": [
        "**Step 3: Flattening Images**"
      ]
    },
    {
      "cell_type": "code",
      "metadata": {
        "id": "uAaiEDUjy7f9",
        "colab_type": "code",
        "colab": {}
      },
      "source": [
        "data = MNISTDataset(training_images.reshape([-1,number_of_dimensions]),training_labels,\n",
        "                    testing_images.reshape([-1,number_of_dimensions]),testing_labels, \n",
        "                                           batch_size=128 )\n"
      ],
      "execution_count": null,
      "outputs": []
    },
    {
      "cell_type": "code",
      "metadata": {
        "id": "05WZvd2FzEKx",
        "colab_type": "code",
        "colab": {
          "base_uri": "https://localhost:8080/",
          "height": 54
        },
        "outputId": "b3368769-c5af-454b-dcd6-b4d6721add3a"
      },
      "source": [
        "print('New shape of Training Images: ' + str(data.train_data.shape))\n",
        "print('New shape of Testing Images : ' + str(data.test_data.shape))"
      ],
      "execution_count": null,
      "outputs": [
        {
          "output_type": "stream",
          "text": [
            "New shape of Training Images: (60000, 784)\n",
            "New shape of Testing Images : (10000, 784)\n"
          ],
          "name": "stdout"
        }
      ]
    },
    {
      "cell_type": "markdown",
      "metadata": {
        "id": "K8lNgX6w1zr1",
        "colab_type": "text"
      },
      "source": [
        "**Step 4: Defining and Training Model**"
      ]
    },
    {
      "cell_type": "code",
      "metadata": {
        "id": "Fp2nHinGzJuX",
        "colab_type": "code",
        "colab": {}
      },
      "source": [
        "num_of_steps = 2000\n",
        "learning_rate1 = 0.1\n",
        "number_of_units_in_layer1 = 128"
      ],
      "execution_count": null,
      "outputs": []
    },
    {
      "cell_type": "code",
      "metadata": {
        "id": "zDdv1Yi5zZYE",
        "colab_type": "code",
        "colab": {}
      },
      "source": [
        "w1 = tf.Variable(tf.random.uniform([number_of_dimensions,number_of_units_in_layer1],minval = -0.1, maxval=0.1,dtype=tf.dtypes.float32))\n",
        "b1 = tf.Variable(tf.random.uniform([number_of_units_in_layer1],minval = -0.1, maxval=0.1,dtype=tf.dtypes.float32))\n",
        "\n",
        "w2 = tf.Variable(tf.random.uniform([number_of_units_in_layer1,number_of_labels],minval = -0.1, maxval=0.1,dtype=tf.dtypes.float32))\n",
        "b2 = tf.Variable(tf.random.uniform([number_of_labels],minval = -0.1, maxval=0.1,dtype=tf.dtypes.float32))"
      ],
      "execution_count": null,
      "outputs": []
    },
    {
      "cell_type": "code",
      "metadata": {
        "id": "1PF-_llwzdJ_",
        "colab_type": "code",
        "colab": {
          "base_uri": "https://localhost:8080/",
          "height": 91
        },
        "outputId": "6ff915af-fe76-4ec1-a8dd-3be0d119628f"
      },
      "source": [
        "print('Shape of weight matrix of hidden layer \"w1\": ' + str(w1.shape))\n",
        "print('Shape of bias matrix of hidden layer \"b1\"  : ' + str(b1.shape))\n",
        "\n",
        "print('Shape of weight matrix of output layer \"w2\": ' + str(w2.shape))\n",
        "print('Shape of bias matrix of output layer \"b2\"  : ' + str(b2.shape))"
      ],
      "execution_count": null,
      "outputs": [
        {
          "output_type": "stream",
          "text": [
            "Shape of weight matrix of hidden layer \"w1\": (784, 128)\n",
            "Shape of bias matrix of hidden layer \"b1\"  : (128,)\n",
            "Shape of weight matrix of output layer \"w2\": (128, 10)\n",
            "Shape of bias matrix of output layer \"b2\"  : (10,)\n"
          ],
          "name": "stdout"
        }
      ]
    },
    {
      "cell_type": "code",
      "metadata": {
        "id": "kIo_W1lczi5B",
        "colab_type": "code",
        "colab": {
          "base_uri": "https://localhost:8080/",
          "height": 461
        },
        "outputId": "49c08009-b406-4b74-b554-d8e936f561cb"
      },
      "source": [
        "loss_list = []\n",
        "step_list = []\n",
        "for step in range(num_of_steps):\n",
        "  image_batch,label_batch = data.next_batch()  #This will update the batch size after every steps\n",
        "  with tf.GradientTape() as tape:#for monitoring every change to tensors\n",
        "    #logits1 = tf.matmul(image_batch,w1)+b1# image_batch.shape = (128 x 784), w1.shape= (784x128), \n",
        "    # image_batch x w1 = logits1, logits1 = (128x128)\n",
        "    hidden1 = tf.nn.relu(tf.matmul(image_batch,w1)+b1)\n",
        "    logits = tf.matmul(hidden1,w2)+b2\n",
        "\n",
        "    loss = tf.reduce_mean(tf.nn.sparse_softmax_cross_entropy_with_logits(logits=logits, labels=label_batch))\n",
        "    loss_list.append(loss)\n",
        "  grads = tape.gradient(loss, [w2,b2,w1,b1])\n",
        "  w2.assign_sub(learning_rate1*grads[0])#updating weights\n",
        "  b2.assign_sub(learning_rate1*grads[1])#updating \n",
        "  w1.assign_sub(learning_rate1*grads[2])\n",
        "  b1.assign_sub(learning_rate1*grads[3])\n",
        "  \n",
        "  step_list.append(step)\n",
        "  \n",
        "\n",
        "  if not step%100:# updating after 100 steps only\n",
        "    preds = tf.argmax(logits,axis = 1, output_type = tf.int32)#selecting max value's index\n",
        "    acc   = (tf.reduce_mean(tf.cast(tf.equal(preds, label_batch),tf.float32)))*100# comparing predicted value and actual value\n",
        "    #returning a binary output. Further checking number of correct classification and calculating accuracy.\n",
        "    print(\"Loss: {}, Accuracy on Training Data: {}\".format(loss,acc))\n",
        "    "
      ],
      "execution_count": null,
      "outputs": [
        {
          "output_type": "stream",
          "text": [
            "Loss: 2.5320944786071777, Accuracy on Training Data: 3.90625\n",
            "Loss: 0.6798030138015747, Accuracy on Training Data: 78.125\n",
            "Loss: 0.6706575155258179, Accuracy on Training Data: 74.21875\n",
            "Loss: 0.6096794605255127, Accuracy on Training Data: 79.6875\n",
            "Loss: 0.5331458449363708, Accuracy on Training Data: 81.25\n",
            "Starting new epoch...\n",
            "Loss: 0.511255145072937, Accuracy on Training Data: 85.15625\n",
            "Loss: 0.6152869462966919, Accuracy on Training Data: 78.125\n",
            "Loss: 0.4729048013687134, Accuracy on Training Data: 78.90625\n",
            "Loss: 0.42342227697372437, Accuracy on Training Data: 88.28125\n",
            "Loss: 0.4733246862888336, Accuracy on Training Data: 82.03125\n",
            "Starting new epoch...\n",
            "Loss: 0.3946101665496826, Accuracy on Training Data: 85.9375\n",
            "Loss: 0.3586769998073578, Accuracy on Training Data: 87.5\n",
            "Loss: 0.3628738522529602, Accuracy on Training Data: 87.5\n",
            "Loss: 0.5063635110855103, Accuracy on Training Data: 83.59375\n",
            "Loss: 0.3693113625049591, Accuracy on Training Data: 86.71875\n",
            "Starting new epoch...\n",
            "Loss: 0.47154346108436584, Accuracy on Training Data: 85.15625\n",
            "Loss: 0.35509827733039856, Accuracy on Training Data: 89.0625\n",
            "Loss: 0.44177770614624023, Accuracy on Training Data: 86.71875\n",
            "Loss: 0.3903179466724396, Accuracy on Training Data: 86.71875\n",
            "Starting new epoch...\n",
            "Loss: 0.464412122964859, Accuracy on Training Data: 79.6875\n"
          ],
          "name": "stdout"
        }
      ]
    },
    {
      "cell_type": "markdown",
      "metadata": {
        "id": "ljSnY-4q2GbH",
        "colab_type": "text"
      },
      "source": [
        "**Step 5: Checking Model Performance on Testing Data**"
      ]
    },
    {
      "cell_type": "code",
      "metadata": {
        "id": "cpV2CVKbznuE",
        "colab_type": "code",
        "colab": {
          "base_uri": "https://localhost:8080/",
          "height": 35
        },
        "outputId": "404de57a-04cc-4bfc-9d5f-ecfe451dacb1"
      },
      "source": [
        "test_prediction1 = tf.nn.relu(tf.matmul(data.test_data,w1)+b1)\n",
        "test_predictions = tf.argmax(tf.matmul(test_prediction1,w2)+b2, axis = 1, output_type= tf.int32)\n",
        "acc = (tf.reduce_mean(tf.cast(tf.equal(test_predictions, data.test_labels),tf.float32)))*100\n",
        "print(' Accuracy on Testing Data: {}'.format(acc))"
      ],
      "execution_count": null,
      "outputs": [
        {
          "output_type": "stream",
          "text": [
            " Accuracy on Testing Data: 85.02999877929688\n"
          ],
          "name": "stdout"
        }
      ]
    },
    {
      "cell_type": "code",
      "metadata": {
        "id": "bS0T48h1zuKA",
        "colab_type": "code",
        "colab": {
          "base_uri": "https://localhost:8080/",
          "height": 297
        },
        "outputId": "d2101c13-eb3e-454e-a16d-ff482f2e767d"
      },
      "source": [
        "plt.figure()\n",
        "plt.plot(step_list,loss_list)\n",
        "plt.xlabel('Training Steps')\n",
        "plt.ylabel('Loss')"
      ],
      "execution_count": null,
      "outputs": [
        {
          "output_type": "execute_result",
          "data": {
            "text/plain": [
              "Text(0, 0.5, 'Loss')"
            ]
          },
          "metadata": {
            "tags": []
          },
          "execution_count": 57
        },
        {
          "output_type": "display_data",
          "data": {
            "image/png": "[encoded data removed]",
            "text/plain": [
              "<Figure size 432x288 with 1 Axes>"
            ]
          },
          "metadata": {
            "tags": [],
            "needs_background": "light"
          }
        }
      ]
    },
    {
      "cell_type": "markdown",
      "metadata": {
        "id": "kqo7vpZs2gFM",
        "colab_type": "text"
      },
      "source": [
        "**Step 6: Partial Validation of Model**"
      ]
    },
    {
      "cell_type": "code",
      "metadata": {
        "id": "6a7Fh4drz8d3",
        "colab_type": "code",
        "colab": {}
      },
      "source": [
        "ind1, ind2,ind3,ind4,ind5 = 5678, 8765, 6857, 85, 9"
      ],
      "execution_count": null,
      "outputs": []
    },
    {
      "cell_type": "code",
      "metadata": {
        "id": "ytFOPerd0C7d",
        "colab_type": "code",
        "colab": {
          "base_uri": "https://localhost:8080/",
          "height": 302
        },
        "outputId": "7d19862d-4391-4ab0-9a19-b766fa50c312"
      },
      "source": [
        "plt.imshow(testing_images[ind1])\n",
        "plt.show\n",
        "print('      Model Prediction: {}'.format(test_predictions[ind1]))\n",
        "print('      Actual Label    : {}'.format(data.test_labels[ind1]))"
      ],
      "execution_count": null,
      "outputs": [
        {
          "output_type": "stream",
          "text": [
            "      Model Prediction: 3\n",
            "      Actual Label    : 3\n"
          ],
          "name": "stdout"
        },
        {
          "output_type": "display_data",
          "data": {
            "image/png": "[encoded data removed]",
            "text/plain": [
              "<Figure size 432x288 with 1 Axes>"
            ]
          },
          "metadata": {
            "tags": [],
            "needs_background": "light"
          }
        }
      ]
    },
    {
      "cell_type": "code",
      "metadata": {
        "id": "0NZIZP-R0H0Q",
        "colab_type": "code",
        "colab": {
          "base_uri": "https://localhost:8080/",
          "height": 302
        },
        "outputId": "a93d8863-7980-49db-8634-940f1af9796a"
      },
      "source": [
        "plt.imshow(testing_images[ind2])\n",
        "plt.show\n",
        "print('      Model Prediction: {}'.format(test_predictions[ind2]))\n",
        "print('      Actual Label    : {}'.format(data.test_labels[ind2]))"
      ],
      "execution_count": null,
      "outputs": [
        {
          "output_type": "stream",
          "text": [
            "      Model Prediction: 5\n",
            "      Actual Label    : 5\n"
          ],
          "name": "stdout"
        },
        {
          "output_type": "display_data",
          "data": {
            "image/png": "[encoded data removed]",
            "text/plain": [
              "<Figure size 432x288 with 1 Axes>"
            ]
          },
          "metadata": {
            "tags": [],
            "needs_background": "light"
          }
        }
      ]
    },
    {
      "cell_type": "code",
      "metadata": {
        "id": "liHU_vLI0rjL",
        "colab_type": "code",
        "colab": {
          "base_uri": "https://localhost:8080/",
          "height": 302
        },
        "outputId": "d1219d7c-43b1-47f9-a0cf-44d4c3e96d80"
      },
      "source": [
        "plt.imshow(testing_images[ind3])\n",
        "plt.show\n",
        "print('      Model Prediction: {}'.format(test_predictions[ind3]))\n",
        "print('      Actual Label    : {}'.format(data.test_labels[ind3]))"
      ],
      "execution_count": null,
      "outputs": [
        {
          "output_type": "stream",
          "text": [
            "      Model Prediction: 7\n",
            "      Actual Label    : 7\n"
          ],
          "name": "stdout"
        },
        {
          "output_type": "display_data",
          "data": {
            "image/png": "[encoded data removed]",
            "text/plain": [
              "<Figure size 432x288 with 1 Axes>"
            ]
          },
          "metadata": {
            "tags": [],
            "needs_background": "light"
          }
        }
      ]
    },
    {
      "cell_type": "code",
      "metadata": {
        "id": "lkN9klrl0vHP",
        "colab_type": "code",
        "colab": {
          "base_uri": "https://localhost:8080/",
          "height": 302
        },
        "outputId": "cff83aa2-4e80-4abf-ca66-8a574adaa251"
      },
      "source": [
        "plt.imshow(testing_images[ind4])\n",
        "plt.show\n",
        "print('      Model Prediction: {}'.format(test_predictions[ind4]))\n",
        "print('      Actual Label    : {}'.format(data.test_labels[ind4]))"
      ],
      "execution_count": null,
      "outputs": [
        {
          "output_type": "stream",
          "text": [
            "      Model Prediction: 0\n",
            "      Actual Label    : 0\n"
          ],
          "name": "stdout"
        },
        {
          "output_type": "display_data",
          "data": {
            "image/png": "[encoded data removed]",
            "text/plain": [
              "<Figure size 432x288 with 1 Axes>"
            ]
          },
          "metadata": {
            "tags": [],
            "needs_background": "light"
          }
        }
      ]
    },
    {
      "cell_type": "code",
      "metadata": {
        "id": "YIuRgnhY06-m",
        "colab_type": "code",
        "colab": {
          "base_uri": "https://localhost:8080/",
          "height": 302
        },
        "outputId": "78fa9da6-5b08-4740-b18e-152cb5edf36e"
      },
      "source": [
        "plt.imshow(testing_images[ind5])\n",
        "plt.show\n",
        "print('      Model Prediction: {}'.format(test_predictions[ind5]))\n",
        "print('      Actual Label    : {}'.format(data.test_labels[ind5]))"
      ],
      "execution_count": null,
      "outputs": [
        {
          "output_type": "stream",
          "text": [
            "      Model Prediction: 7\n",
            "      Actual Label    : 7\n"
          ],
          "name": "stdout"
        },
        {
          "output_type": "display_data",
          "data": {
            "image/png": "[encoded data removed]",
            "text/plain": [
              "<Figure size 432x288 with 1 Axes>"
            ]
          },
          "metadata": {
            "tags": [],
            "needs_background": "light"
          }
        }
      ]
    },
    {
      "cell_type": "code",
      "metadata": {
        "id": "paNRT0bA0-qF",
        "colab_type": "code",
        "colab": {}
      },
      "source": [
        ""
      ],
      "execution_count": null,
      "outputs": []
    }
  ]
}